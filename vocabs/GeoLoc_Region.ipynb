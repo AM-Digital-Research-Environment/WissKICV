{
 "cells": [
  {
   "cell_type": "code",
   "execution_count": 1,
   "id": "8daf0f20-c8df-4883-9ea1-6f8ad1a5a214",
   "metadata": {},
   "outputs": [
    {
     "data": {
      "text/plain": [
       "'C:\\\\Users\\\\AfricaMultiple\\\\Documents\\\\wisskiDataImport'"
      ]
     },
     "execution_count": 1,
     "metadata": {},
     "output_type": "execute_result"
    }
   ],
   "source": [
    "import os\n",
    "os.chdir(\"C:\\\\Users\\\\AfricaMultiple\\\\Documents\\\\wisskiDataImport\")\n",
    "os.getcwd()"
   ]
  },
  {
   "cell_type": "code",
   "execution_count": 2,
   "id": "73162e5d-3336-49ad-aafc-6fa425d2630e",
   "metadata": {},
   "outputs": [],
   "source": [
    "from api import Api, Pathbuilder, Entity\n",
    "import pandas as pd"
   ]
  },
  {
   "cell_type": "code",
   "execution_count": 3,
   "id": "2400f2c7-8655-4e37-8b27-9e66404b8285",
   "metadata": {},
   "outputs": [],
   "source": [
    "api_url = \"***REMOVED***/wisski/api/v0\"\n",
    "auth = ()\n",
    "headers = {\"Cache-Control\": \"no-cache\"}\n",
    "api = Api(api_url, auth, headers)"
   ]
  },
  {
   "cell_type": "code",
   "execution_count": 4,
   "id": "b6a2ec2a-4fd6-44be-b68c-702aec3da886",
   "metadata": {},
   "outputs": [],
   "source": [
    "api.pathbuilders = ['amo_ecrm__v01_dev_pb']"
   ]
  },
  {
   "cell_type": "code",
   "execution_count": 5,
   "id": "dfd12556-83ba-4bfb-81fc-c47725c803bb",
   "metadata": {},
   "outputs": [
    {
     "data": {
      "text/html": [
       "<div>\n",
       "<style scoped>\n",
       "    .dataframe tbody tr th:only-of-type {\n",
       "        vertical-align: middle;\n",
       "    }\n",
       "\n",
       "    .dataframe tbody tr th {\n",
       "        vertical-align: top;\n",
       "    }\n",
       "\n",
       "    .dataframe thead th {\n",
       "        text-align: right;\n",
       "    }\n",
       "</style>\n",
       "<table border=\"1\" class=\"dataframe\">\n",
       "  <thead>\n",
       "    <tr style=\"text-align: right;\">\n",
       "      <th></th>\n",
       "      <th>country</th>\n",
       "      <th>countryLabel</th>\n",
       "      <th>state</th>\n",
       "      <th>stateLabel</th>\n",
       "    </tr>\n",
       "  </thead>\n",
       "  <tbody>\n",
       "    <tr>\n",
       "      <th>0</th>\n",
       "      <td>http://www.wikidata.org/entity/Q784</td>\n",
       "      <td>Dominica</td>\n",
       "      <td>http://www.wikidata.org/entity/Q339063</td>\n",
       "      <td>Saint Paul Parish</td>\n",
       "    </tr>\n",
       "    <tr>\n",
       "      <th>1</th>\n",
       "      <td>http://www.wikidata.org/entity/Q784</td>\n",
       "      <td>Dominica</td>\n",
       "      <td>http://www.wikidata.org/entity/Q617801</td>\n",
       "      <td>Saint George Parish</td>\n",
       "    </tr>\n",
       "    <tr>\n",
       "      <th>2</th>\n",
       "      <td>http://www.wikidata.org/entity/Q784</td>\n",
       "      <td>Dominica</td>\n",
       "      <td>http://www.wikidata.org/entity/Q732322</td>\n",
       "      <td>Saint Andrew Parish</td>\n",
       "    </tr>\n",
       "    <tr>\n",
       "      <th>3</th>\n",
       "      <td>http://www.wikidata.org/entity/Q784</td>\n",
       "      <td>Dominica</td>\n",
       "      <td>http://www.wikidata.org/entity/Q1431099</td>\n",
       "      <td>Saint Luke Parish</td>\n",
       "    </tr>\n",
       "    <tr>\n",
       "      <th>4</th>\n",
       "      <td>http://www.wikidata.org/entity/Q784</td>\n",
       "      <td>Dominica</td>\n",
       "      <td>http://www.wikidata.org/entity/Q1431108</td>\n",
       "      <td>Saint Patrick Parish</td>\n",
       "    </tr>\n",
       "  </tbody>\n",
       "</table>\n",
       "</div>"
      ],
      "text/plain": [
       "                               country countryLabel  \\\n",
       "0  http://www.wikidata.org/entity/Q784     Dominica   \n",
       "1  http://www.wikidata.org/entity/Q784     Dominica   \n",
       "2  http://www.wikidata.org/entity/Q784     Dominica   \n",
       "3  http://www.wikidata.org/entity/Q784     Dominica   \n",
       "4  http://www.wikidata.org/entity/Q784     Dominica   \n",
       "\n",
       "                                     state            stateLabel  \n",
       "0   http://www.wikidata.org/entity/Q339063     Saint Paul Parish  \n",
       "1   http://www.wikidata.org/entity/Q617801   Saint George Parish  \n",
       "2   http://www.wikidata.org/entity/Q732322   Saint Andrew Parish  \n",
       "3  http://www.wikidata.org/entity/Q1431099     Saint Luke Parish  \n",
       "4  http://www.wikidata.org/entity/Q1431108  Saint Patrick Parish  "
      ]
     },
     "execution_count": 5,
     "metadata": {},
     "output_type": "execute_result"
    }
   ],
   "source": [
    "df = pd.read_excel(r\"C:\\Users\\AfricaMultiple\\Filr\\Net Folders\\Group\\ug_amds\\20 WissKI\\WissKI_89\\geoloc_query_results.xlsx\")\n",
    "df = df.loc[df['countryLabel'].isin(['Dominica', 'Dominican Republic', 'El Salvador', 'Iran', 'Iraq'])].reset_index(drop=True)\n",
    "df.head()"
   ]
  },
  {
   "cell_type": "code",
   "execution_count": 6,
   "id": "af292813-55a9-4bf3-902a-138236d86afb",
   "metadata": {},
   "outputs": [
    {
     "data": {
      "text/html": [
       "<div>\n",
       "<style scoped>\n",
       "    .dataframe tbody tr th:only-of-type {\n",
       "        vertical-align: middle;\n",
       "    }\n",
       "\n",
       "    .dataframe tbody tr th {\n",
       "        vertical-align: top;\n",
       "    }\n",
       "\n",
       "    .dataframe thead th {\n",
       "        text-align: right;\n",
       "    }\n",
       "</style>\n",
       "<table border=\"1\" class=\"dataframe\">\n",
       "  <thead>\n",
       "    <tr style=\"text-align: right;\">\n",
       "      <th></th>\n",
       "      <th>countryID</th>\n",
       "      <th>countryIdentifier</th>\n",
       "      <th>countryLabel</th>\n",
       "      <th>state</th>\n",
       "      <th>stateLabel</th>\n",
       "    </tr>\n",
       "  </thead>\n",
       "  <tbody>\n",
       "    <tr>\n",
       "      <th>0</th>\n",
       "      <td>http://www.wisski.uni-bayreuth.de/data/6679734...</td>\n",
       "      <td>http://www.wikidata.org/entity/Q784</td>\n",
       "      <td>Dominica</td>\n",
       "      <td>http://www.wikidata.org/entity/Q339063</td>\n",
       "      <td>Saint Paul Parish</td>\n",
       "    </tr>\n",
       "    <tr>\n",
       "      <th>1</th>\n",
       "      <td>http://www.wisski.uni-bayreuth.de/data/6679734...</td>\n",
       "      <td>http://www.wikidata.org/entity/Q784</td>\n",
       "      <td>Dominica</td>\n",
       "      <td>http://www.wikidata.org/entity/Q617801</td>\n",
       "      <td>Saint George Parish</td>\n",
       "    </tr>\n",
       "    <tr>\n",
       "      <th>2</th>\n",
       "      <td>http://www.wisski.uni-bayreuth.de/data/6679734...</td>\n",
       "      <td>http://www.wikidata.org/entity/Q784</td>\n",
       "      <td>Dominica</td>\n",
       "      <td>http://www.wikidata.org/entity/Q732322</td>\n",
       "      <td>Saint Andrew Parish</td>\n",
       "    </tr>\n",
       "    <tr>\n",
       "      <th>3</th>\n",
       "      <td>http://www.wisski.uni-bayreuth.de/data/6679734...</td>\n",
       "      <td>http://www.wikidata.org/entity/Q784</td>\n",
       "      <td>Dominica</td>\n",
       "      <td>http://www.wikidata.org/entity/Q1431099</td>\n",
       "      <td>Saint Luke Parish</td>\n",
       "    </tr>\n",
       "    <tr>\n",
       "      <th>4</th>\n",
       "      <td>http://www.wisski.uni-bayreuth.de/data/6679734...</td>\n",
       "      <td>http://www.wikidata.org/entity/Q784</td>\n",
       "      <td>Dominica</td>\n",
       "      <td>http://www.wikidata.org/entity/Q1431108</td>\n",
       "      <td>Saint Patrick Parish</td>\n",
       "    </tr>\n",
       "    <tr>\n",
       "      <th>...</th>\n",
       "      <td>...</td>\n",
       "      <td>...</td>\n",
       "      <td>...</td>\n",
       "      <td>...</td>\n",
       "      <td>...</td>\n",
       "    </tr>\n",
       "    <tr>\n",
       "      <th>100</th>\n",
       "      <td>http://www.wisski.uni-bayreuth.de/data/6679734...</td>\n",
       "      <td>http://www.wikidata.org/entity/Q796</td>\n",
       "      <td>Iraq</td>\n",
       "      <td>http://www.wikidata.org/entity/Q213182</td>\n",
       "      <td>Sulaymaniyah Governorate</td>\n",
       "    </tr>\n",
       "    <tr>\n",
       "      <th>101</th>\n",
       "      <td>http://www.wisski.uni-bayreuth.de/data/6679734...</td>\n",
       "      <td>http://www.wikidata.org/entity/Q796</td>\n",
       "      <td>Iraq</td>\n",
       "      <td>http://www.wikidata.org/entity/Q213189</td>\n",
       "      <td>Erbil Governorate</td>\n",
       "    </tr>\n",
       "    <tr>\n",
       "      <th>102</th>\n",
       "      <td>http://www.wisski.uni-bayreuth.de/data/6679734...</td>\n",
       "      <td>http://www.wikidata.org/entity/Q796</td>\n",
       "      <td>Iraq</td>\n",
       "      <td>http://www.wikidata.org/entity/Q214104</td>\n",
       "      <td>Karbala Governorate</td>\n",
       "    </tr>\n",
       "    <tr>\n",
       "      <th>103</th>\n",
       "      <td>http://www.wisski.uni-bayreuth.de/data/6679734...</td>\n",
       "      <td>http://www.wikidata.org/entity/Q796</td>\n",
       "      <td>Iraq</td>\n",
       "      <td>http://www.wikidata.org/entity/Q215649</td>\n",
       "      <td>Dhi Qar Governorate</td>\n",
       "    </tr>\n",
       "    <tr>\n",
       "      <th>104</th>\n",
       "      <td>http://www.wisski.uni-bayreuth.de/data/6679734...</td>\n",
       "      <td>http://www.wikidata.org/entity/Q796</td>\n",
       "      <td>Iraq</td>\n",
       "      <td>http://www.wikidata.org/entity/Q217075</td>\n",
       "      <td>Diyala Governorate</td>\n",
       "    </tr>\n",
       "  </tbody>\n",
       "</table>\n",
       "<p>105 rows × 5 columns</p>\n",
       "</div>"
      ],
      "text/plain": [
       "                                             countryID  \\\n",
       "0    http://www.wisski.uni-bayreuth.de/data/6679734...   \n",
       "1    http://www.wisski.uni-bayreuth.de/data/6679734...   \n",
       "2    http://www.wisski.uni-bayreuth.de/data/6679734...   \n",
       "3    http://www.wisski.uni-bayreuth.de/data/6679734...   \n",
       "4    http://www.wisski.uni-bayreuth.de/data/6679734...   \n",
       "..                                                 ...   \n",
       "100  http://www.wisski.uni-bayreuth.de/data/6679734...   \n",
       "101  http://www.wisski.uni-bayreuth.de/data/6679734...   \n",
       "102  http://www.wisski.uni-bayreuth.de/data/6679734...   \n",
       "103  http://www.wisski.uni-bayreuth.de/data/6679734...   \n",
       "104  http://www.wisski.uni-bayreuth.de/data/6679734...   \n",
       "\n",
       "                       countryIdentifier countryLabel  \\\n",
       "0    http://www.wikidata.org/entity/Q784     Dominica   \n",
       "1    http://www.wikidata.org/entity/Q784     Dominica   \n",
       "2    http://www.wikidata.org/entity/Q784     Dominica   \n",
       "3    http://www.wikidata.org/entity/Q784     Dominica   \n",
       "4    http://www.wikidata.org/entity/Q784     Dominica   \n",
       "..                                   ...          ...   \n",
       "100  http://www.wikidata.org/entity/Q796         Iraq   \n",
       "101  http://www.wikidata.org/entity/Q796         Iraq   \n",
       "102  http://www.wikidata.org/entity/Q796         Iraq   \n",
       "103  http://www.wikidata.org/entity/Q796         Iraq   \n",
       "104  http://www.wikidata.org/entity/Q796         Iraq   \n",
       "\n",
       "                                       state                stateLabel  \n",
       "0     http://www.wikidata.org/entity/Q339063         Saint Paul Parish  \n",
       "1     http://www.wikidata.org/entity/Q617801       Saint George Parish  \n",
       "2     http://www.wikidata.org/entity/Q732322       Saint Andrew Parish  \n",
       "3    http://www.wikidata.org/entity/Q1431099         Saint Luke Parish  \n",
       "4    http://www.wikidata.org/entity/Q1431108      Saint Patrick Parish  \n",
       "..                                       ...                       ...  \n",
       "100   http://www.wikidata.org/entity/Q213182  Sulaymaniyah Governorate  \n",
       "101   http://www.wikidata.org/entity/Q213189         Erbil Governorate  \n",
       "102   http://www.wikidata.org/entity/Q214104       Karbala Governorate  \n",
       "103   http://www.wikidata.org/entity/Q215649       Dhi Qar Governorate  \n",
       "104   http://www.wikidata.org/entity/Q217075        Diyala Governorate  \n",
       "\n",
       "[105 rows x 5 columns]"
      ]
     },
     "execution_count": 6,
     "metadata": {},
     "output_type": "execute_result"
    }
   ],
   "source": [
    "df1 = pd.read_csv(r\"C:\\Users\\AfricaMultiple\\Filr\\Net Folders\\Group\\ug_amds\\20 WissKI\\WissKI_89\\System_GeoCountry_Dump.csv\")\n",
    "fdf = df1.merge(df, left_on=\"countryIdentifier\", right_on=\"country\").drop(columns=['countryName','country'])\n",
    "fdf = fdf.loc[pd.isna(fdf['stateLabel']) == False].reset_index(drop=True)\n",
    "fdf"
   ]
  },
  {
   "cell_type": "code",
   "execution_count": 7,
   "id": "1ef4c309-3fda-4480-9634-081f74825951",
   "metadata": {},
   "outputs": [
    {
     "data": {
      "text/plain": [
       "105"
      ]
     },
     "execution_count": 7,
     "metadata": {},
     "output_type": "execute_result"
    }
   ],
   "source": [
    "len(fdf)"
   ]
  },
  {
   "cell_type": "code",
   "execution_count": 9,
   "id": "b22752bd-f297-4a6a-a619-a76bc425af97",
   "metadata": {},
   "outputs": [],
   "source": [
    "# for n in range(len(fdf)):\n",
    "#     tor = {\"fa51377749580b38172df49bff63f240\" : [fdf['stateLabel'][n]],\n",
    "#            \"f26b427df963f9807ed611f752e6adcd\" : [fdf['state'][n]],\n",
    "#            \"f73611130ddd839eafcf914eee8a1389\" : [fdf['countryID'][n]]}\n",
    "#     try:\n",
    "#         tor_entity = Entity(api=api, fields=tor, bundle_id = \"b366d363df2d2080ff010ff8016d6776\")\n",
    "#         api.save(tor_entity)\n",
    "#     except:\n",
    "#         continue"
   ]
  }
 ],
 "metadata": {
  "kernelspec": {
   "display_name": "Python 3 (ipykernel)",
   "language": "python",
   "name": "python3"
  },
  "language_info": {
   "codemirror_mode": {
    "name": "ipython",
    "version": 3
   },
   "file_extension": ".py",
   "mimetype": "text/x-python",
   "name": "python",
   "nbconvert_exporter": "python",
   "pygments_lexer": "ipython3",
   "version": "3.10.14"
  }
 },
 "nbformat": 4,
 "nbformat_minor": 5
}
