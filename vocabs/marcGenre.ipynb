{
 "cells": [
  {
   "cell_type": "code",
   "execution_count": 1,
   "id": "8daf0f20-c8df-4883-9ea1-6f8ad1a5a214",
   "metadata": {},
   "outputs": [
    {
     "data": {
      "text/plain": [
       "'C:\\\\Users\\\\AfricaMultiple\\\\Documents\\\\wisskiDataImport'"
      ]
     },
     "execution_count": 1,
     "metadata": {},
     "output_type": "execute_result"
    }
   ],
   "source": [
    "import os\n",
    "os.chdir(\"C:\\\\Users\\\\AfricaMultiple\\\\Documents\\\\wisskiDataImport\")\n",
    "os.getcwd()"
   ]
  },
  {
   "cell_type": "code",
   "execution_count": 2,
   "id": "73162e5d-3336-49ad-aafc-6fa425d2630e",
   "metadata": {},
   "outputs": [],
   "source": [
    "from api import Api, Pathbuilder, Entity\n",
    "import pandas as pd"
   ]
  },
  {
   "cell_type": "code",
   "execution_count": 3,
   "id": "2400f2c7-8655-4e37-8b27-9e66404b8285",
   "metadata": {},
   "outputs": [],
   "source": [
    "api_url = \"***REMOVED***/wisski/api/v0\"\n",
    "auth = ()\n",
    "headers = {\"Cache-Control\": \"no-cache\"}\n",
    "api = Api(api_url, auth, headers)"
   ]
  },
  {
   "cell_type": "code",
   "execution_count": 4,
   "id": "b6a2ec2a-4fd6-44be-b68c-702aec3da886",
   "metadata": {},
   "outputs": [],
   "source": [
    "api.pathbuilders = ['amo_ecrm__v01_dev_pb']"
   ]
  },
  {
   "cell_type": "code",
   "execution_count": 5,
   "id": "dfd12556-83ba-4bfb-81fc-c47725c803bb",
   "metadata": {},
   "outputs": [
    {
     "data": {
      "text/html": [
       "<div>\n",
       "<style scoped>\n",
       "    .dataframe tbody tr th:only-of-type {\n",
       "        vertical-align: middle;\n",
       "    }\n",
       "\n",
       "    .dataframe tbody tr th {\n",
       "        vertical-align: top;\n",
       "    }\n",
       "\n",
       "    .dataframe thead th {\n",
       "        text-align: right;\n",
       "    }\n",
       "</style>\n",
       "<table border=\"1\" class=\"dataframe\">\n",
       "  <thead>\n",
       "    <tr style=\"text-align: right;\">\n",
       "      <th></th>\n",
       "      <th>Terms</th>\n",
       "    </tr>\n",
       "  </thead>\n",
       "  <tbody>\n",
       "    <tr>\n",
       "      <th>0</th>\n",
       "      <td>abstract or summary</td>\n",
       "    </tr>\n",
       "    <tr>\n",
       "      <th>1</th>\n",
       "      <td>art original</td>\n",
       "    </tr>\n",
       "    <tr>\n",
       "      <th>2</th>\n",
       "      <td>art reproduction</td>\n",
       "    </tr>\n",
       "    <tr>\n",
       "      <th>3</th>\n",
       "      <td>article</td>\n",
       "    </tr>\n",
       "    <tr>\n",
       "      <th>4</th>\n",
       "      <td>atlas</td>\n",
       "    </tr>\n",
       "    <tr>\n",
       "      <th>...</th>\n",
       "      <td>...</td>\n",
       "    </tr>\n",
       "    <tr>\n",
       "      <th>88</th>\n",
       "      <td>transparency</td>\n",
       "    </tr>\n",
       "    <tr>\n",
       "      <th>89</th>\n",
       "      <td>treaty</td>\n",
       "    </tr>\n",
       "    <tr>\n",
       "      <th>90</th>\n",
       "      <td>videorecording</td>\n",
       "    </tr>\n",
       "    <tr>\n",
       "      <th>91</th>\n",
       "      <td>web site</td>\n",
       "    </tr>\n",
       "    <tr>\n",
       "      <th>92</th>\n",
       "      <td>yearbook</td>\n",
       "    </tr>\n",
       "  </tbody>\n",
       "</table>\n",
       "<p>93 rows × 1 columns</p>\n",
       "</div>"
      ],
      "text/plain": [
       "                  Terms\n",
       "0   abstract or summary\n",
       "1          art original\n",
       "2      art reproduction\n",
       "3               article\n",
       "4                 atlas\n",
       "..                  ...\n",
       "88         transparency\n",
       "89               treaty\n",
       "90       videorecording\n",
       "91             web site\n",
       "92             yearbook\n",
       "\n",
       "[93 rows x 1 columns]"
      ]
     },
     "execution_count": 5,
     "metadata": {},
     "output_type": "execute_result"
    }
   ],
   "source": [
    "restype = pd.read_excel(r\"C:\\Users\\AfricaMultiple\\Documents\\wisskiDataImport\\dictionaries.xlsx\", sheet_name='marcGenre')\n",
    "restype"
   ]
  },
  {
   "cell_type": "code",
   "execution_count": 6,
   "id": "c57fa13d-18e8-4c05-af12-21cae33c4310",
   "metadata": {},
   "outputs": [],
   "source": [
    "authority = \"http://www.wisski.uni-bayreuth.de/data/6679636e0bd2e\""
   ]
  },
  {
   "cell_type": "code",
   "execution_count": 8,
   "id": "b22752bd-f297-4a6a-a619-a76bc425af97",
   "metadata": {},
   "outputs": [],
   "source": [
    "# for r in range(2, len(restype)):\n",
    "#     tor = {\"f51b48b17c359794ba4cb770a84df8a0\" : [restype['Terms'][r]], \n",
    "#            \"f45e6f2e7de734525bafbf8c4eaa3f4a\" : [authority]}\n",
    "#     tor_entity = Entity(api=api, fields=tor, bundle_id = \"ba12df9592320d0c0d23b50781084a91\")\n",
    "#     api.save(tor_entity)"
   ]
  }
 ],
 "metadata": {
  "kernelspec": {
   "display_name": "Python 3 (ipykernel)",
   "language": "python",
   "name": "python3"
  },
  "language_info": {
   "codemirror_mode": {
    "name": "ipython",
    "version": 3
   },
   "file_extension": ".py",
   "mimetype": "text/x-python",
   "name": "python",
   "nbconvert_exporter": "python",
   "pygments_lexer": "ipython3",
   "version": "3.10.14"
  }
 },
 "nbformat": 4,
 "nbformat_minor": 5
}
