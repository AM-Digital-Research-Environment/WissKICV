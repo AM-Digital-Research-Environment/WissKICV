{
 "cells": [
  {
   "cell_type": "code",
   "execution_count": 1,
   "id": "8daf0f20-c8df-4883-9ea1-6f8ad1a5a214",
   "metadata": {},
   "outputs": [
    {
     "data": {
      "text/plain": [
       "'C:\\\\Users\\\\AfricaMultiple\\\\Documents\\\\wisskiDataImport'"
      ]
     },
     "execution_count": 1,
     "metadata": {},
     "output_type": "execute_result"
    }
   ],
   "source": [
    "import os\n",
    "os.chdir(\"C:\\\\Users\\\\AfricaMultiple\\\\Documents\\\\wisskiDataImport\")\n",
    "os.getcwd()"
   ]
  },
  {
   "cell_type": "code",
   "execution_count": 2,
   "id": "73162e5d-3336-49ad-aafc-6fa425d2630e",
   "metadata": {},
   "outputs": [],
   "source": [
    "from api import Api, Pathbuilder, Entity\n",
    "import pandas as pd"
   ]
  },
  {
   "cell_type": "code",
   "execution_count": 3,
   "id": "2400f2c7-8655-4e37-8b27-9e66404b8285",
   "metadata": {},
   "outputs": [],
   "source": [
    "api_url = \"***REMOVED***/wisski/api/v0\"\n",
    "auth = )\n",
    "headers = {\"Cache-Control\": \"no-cache\"}\n",
    "api = Api(api_url, auth, headers)"
   ]
  },
  {
   "cell_type": "code",
   "execution_count": 4,
   "id": "b6a2ec2a-4fd6-44be-b68c-702aec3da886",
   "metadata": {},
   "outputs": [],
   "source": [
    "api.pathbuilders = ['amo_ecrm__v01_dev_pb']"
   ]
  },
  {
   "cell_type": "code",
   "execution_count": 5,
   "id": "dfd12556-83ba-4bfb-81fc-c47725c803bb",
   "metadata": {},
   "outputs": [
    {
     "data": {
      "text/html": [
       "<div>\n",
       "<style scoped>\n",
       "    .dataframe tbody tr th:only-of-type {\n",
       "        vertical-align: middle;\n",
       "    }\n",
       "\n",
       "    .dataframe tbody tr th {\n",
       "        vertical-align: top;\n",
       "    }\n",
       "\n",
       "    .dataframe thead th {\n",
       "        text-align: right;\n",
       "    }\n",
       "</style>\n",
       "<table border=\"1\" class=\"dataframe\">\n",
       "  <thead>\n",
       "    <tr style=\"text-align: right;\">\n",
       "      <th></th>\n",
       "      <th>Code</th>\n",
       "      <th>AuthorityName</th>\n",
       "      <th>Note</th>\n",
       "      <th>Link</th>\n",
       "    </tr>\n",
       "  </thead>\n",
       "  <tbody>\n",
       "    <tr>\n",
       "      <th>0</th>\n",
       "      <td>agorha</td>\n",
       "      <td>AGORHA (Accès global et organisé aux ressource...</td>\n",
       "      <td>NaN</td>\n",
       "      <td>http://agorha.inha.fr/</td>\n",
       "    </tr>\n",
       "    <tr>\n",
       "      <th>1</th>\n",
       "      <td>agrovoc</td>\n",
       "      <td>AGROVOC multilingual agricultural thesaurus</td>\n",
       "      <td>(Rome: APIMONDIA)</td>\n",
       "      <td></td>\n",
       "    </tr>\n",
       "    <tr>\n",
       "      <th>2</th>\n",
       "      <td>allmovie</td>\n",
       "      <td>AllMovie</td>\n",
       "      <td>NaN</td>\n",
       "      <td>http://www.allmovie.com/</td>\n",
       "    </tr>\n",
       "    <tr>\n",
       "      <th>3</th>\n",
       "      <td>allmusic</td>\n",
       "      <td>AllMusic</td>\n",
       "      <td>NaN</td>\n",
       "      <td>http://www.allmusic.com/</td>\n",
       "    </tr>\n",
       "    <tr>\n",
       "      <th>4</th>\n",
       "      <td>allocine</td>\n",
       "      <td>AlloCiné</td>\n",
       "      <td>NaN</td>\n",
       "      <td>http://www.allocine.fr/</td>\n",
       "    </tr>\n",
       "  </tbody>\n",
       "</table>\n",
       "</div>"
      ],
      "text/plain": [
       "       Code                                      AuthorityName  \\\n",
       "0    agorha  AGORHA (Accès global et organisé aux ressource...   \n",
       "1   agrovoc        AGROVOC multilingual agricultural thesaurus   \n",
       "2  allmovie                                           AllMovie   \n",
       "3  allmusic                                           AllMusic   \n",
       "4  allocine                                           AlloCiné   \n",
       "\n",
       "                Note                      Link  \n",
       "0                NaN    http://agorha.inha.fr/  \n",
       "1  (Rome: APIMONDIA)                            \n",
       "2                NaN  http://www.allmovie.com/  \n",
       "3                NaN  http://www.allmusic.com/  \n",
       "4                NaN   http://www.allocine.fr/  "
      ]
     },
     "execution_count": 5,
     "metadata": {},
     "output_type": "execute_result"
    }
   ],
   "source": [
    "restype = pd.read_excel(r\"C:\\Users\\AfricaMultiple\\Documents\\wisskiDataImport\\IdentifierList.xlsx\")\n",
    "restype['Link'] = restype['Link'].fillna(value='')\n",
    "restype.head()"
   ]
  },
  {
   "cell_type": "code",
   "execution_count": 7,
   "id": "b22752bd-f297-4a6a-a619-a76bc425af97",
   "metadata": {},
   "outputs": [],
   "source": [
    "# for n in range(len(restype)):\n",
    "#     id = {\n",
    "#         \"f75085b7310d63ec5b8dddc5012a0b0a\" : [restype['AuthorityName'][n]], # Name\n",
    "#         \"f4d77a2c0fd6824f116c10c8b337c912\" : [restype['Link'][n]] # URL\n",
    "#     }\n",
    "#     id_entity = Entity(api=api, fields=id, bundle_id = \"b29200adff33177fbd630f8b8bb55c60\")\n",
    "#     api.save(id_entity)"
   ]
  },
  {
   "cell_type": "code",
   "execution_count": null,
   "id": "62e9e60b-9151-4425-a1c6-c03ae8679394",
   "metadata": {},
   "outputs": [],
   "source": []
  }
 ],
 "metadata": {
  "kernelspec": {
   "display_name": "Python 3 (ipykernel)",
   "language": "python",
   "name": "python3"
  },
  "language_info": {
   "codemirror_mode": {
    "name": "ipython",
    "version": 3
   },
   "file_extension": ".py",
   "mimetype": "text/x-python",
   "name": "python",
   "nbconvert_exporter": "python",
   "pygments_lexer": "ipython3",
   "version": "3.10.14"
  }
 },
 "nbformat": 4,
 "nbformat_minor": 5
}
