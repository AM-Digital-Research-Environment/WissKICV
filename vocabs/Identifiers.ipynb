{
 "cells": [
  {
   "cell_type": "code",
   "execution_count": 1,
   "id": "73162e5d-3336-49ad-aafc-6fa425d2630e",
   "metadata": {},
   "outputs": [],
   "source": [
    "from wisski.api import Api, Pathbuilder, Entity\n",
    "import pandas as pd\n",
    "import json\n",
    "import os"
   ]
  },
  {
   "cell_type": "code",
   "execution_count": 2,
   "id": "2400f2c7-8655-4e37-8b27-9e66404b8285",
   "metadata": {},
   "outputs": [],
   "source": [
    "# Load the configuration from the dicts folder\n",
    "config_path = os.path.join(os.path.dirname(__file__), '..', 'dicts', 'config.json')\n",
    "with open(config_path, 'r') as config_file:\n",
    "    config = json.load(config_file)\n",
    "\n",
    "# Initialize the API\n",
    "api_url = \"https://www.wisski.uni-bayreuth.de/wisski/api/v0\"\n",
    "auth = (config['username'], config['password'])\n",
    "headers = {\"Cache-Control\": \"no-cache\"}\n",
    "api = Api(api_url, auth, headers)\n",
    "api.pathbuilders = [\"amo_ecrm__v01_dev_pb\"]"
   ]
  },
  {
   "cell_type": "code",
   "execution_count": 3,
   "id": "dfd12556-83ba-4bfb-81fc-c47725c803bb",
   "metadata": {},
   "outputs": [
    {
     "data": {
      "text/html": [
       "<div>\n",
       "<style scoped>\n",
       "    .dataframe tbody tr th:only-of-type {\n",
       "        vertical-align: middle;\n",
       "    }\n",
       "\n",
       "    .dataframe tbody tr th {\n",
       "        vertical-align: top;\n",
       "    }\n",
       "\n",
       "    .dataframe thead th {\n",
       "        text-align: right;\n",
       "    }\n",
       "</style>\n",
       "<table border=\"1\" class=\"dataframe\">\n",
       "  <thead>\n",
       "    <tr style=\"text-align: right;\">\n",
       "      <th></th>\n",
       "      <th>Code</th>\n",
       "      <th>AuthorityName</th>\n",
       "      <th>Note</th>\n",
       "      <th>Link</th>\n",
       "    </tr>\n",
       "  </thead>\n",
       "  <tbody>\n",
       "    <tr>\n",
       "      <th>0</th>\n",
       "      <td>agorha</td>\n",
       "      <td>AGORHA (Accès global et organisé aux ressource...</td>\n",
       "      <td>NaN</td>\n",
       "      <td>http://agorha.inha.fr/</td>\n",
       "    </tr>\n",
       "    <tr>\n",
       "      <th>1</th>\n",
       "      <td>agrovoc</td>\n",
       "      <td>AGROVOC multilingual agricultural thesaurus</td>\n",
       "      <td>(Rome: APIMONDIA)</td>\n",
       "      <td>&lt;no link&gt;</td>\n",
       "    </tr>\n",
       "    <tr>\n",
       "      <th>2</th>\n",
       "      <td>allmovie</td>\n",
       "      <td>AllMovie</td>\n",
       "      <td>NaN</td>\n",
       "      <td>http://www.allmovie.com/</td>\n",
       "    </tr>\n",
       "    <tr>\n",
       "      <th>3</th>\n",
       "      <td>allmusic</td>\n",
       "      <td>AllMusic</td>\n",
       "      <td>NaN</td>\n",
       "      <td>http://www.allmusic.com/</td>\n",
       "    </tr>\n",
       "    <tr>\n",
       "      <th>4</th>\n",
       "      <td>allocine</td>\n",
       "      <td>AlloCiné</td>\n",
       "      <td>NaN</td>\n",
       "      <td>http://www.allocine.fr/</td>\n",
       "    </tr>\n",
       "  </tbody>\n",
       "</table>\n",
       "</div>"
      ],
      "text/plain": [
       "       Code                                      AuthorityName  \\\n",
       "0    agorha  AGORHA (Accès global et organisé aux ressource...   \n",
       "1   agrovoc        AGROVOC multilingual agricultural thesaurus   \n",
       "2  allmovie                                           AllMovie   \n",
       "3  allmusic                                           AllMusic   \n",
       "4  allocine                                           AlloCiné   \n",
       "\n",
       "                Note                      Link  \n",
       "0                NaN    http://agorha.inha.fr/  \n",
       "1  (Rome: APIMONDIA)                 <no link>  \n",
       "2                NaN  http://www.allmovie.com/  \n",
       "3                NaN  http://www.allmusic.com/  \n",
       "4                NaN   http://www.allocine.fr/  "
      ]
     },
     "execution_count": 3,
     "metadata": {},
     "output_type": "execute_result"
    }
   ],
   "source": [
    "identifier = pd.read_excel(r\"dictionaries.xlsx\", sheet_name='Identifier')\n",
    "identifier.head()"
   ]
  },
  {
   "cell_type": "code",
   "execution_count": 4,
   "id": "ab57ddad-8bf8-4fd5-b3c1-435ac12a7854",
   "metadata": {},
   "outputs": [],
   "source": [
    "# # Test\n",
    "\n",
    "# id_value = {\n",
    "#     \"f75085b7310d63ec5b8dddc5012a0b0a\" : [identifier['AuthorityName'][0]], # Name\n",
    "#     \"f4d77a2c0fd6824f116c10c8b337c912\" : [identifier['Link'][0]] # URL\n",
    "# }\n",
    "\n",
    "# id_entity = Entity(api=api, fields=id_value, bundle_id = \"b29200adff33177fbd630f8b8bb55c60\")\n",
    "# api.save(id_entity)"
   ]
  },
  {
   "cell_type": "code",
   "execution_count": 5,
   "id": "b22752bd-f297-4a6a-a619-a76bc425af97",
   "metadata": {},
   "outputs": [],
   "source": [
    "for n in range(1, len(identifier)):\n",
    "    id_value = {\n",
    "        \"f75085b7310d63ec5b8dddc5012a0b0a\" : [identifier['AuthorityName'][n]], # Name\n",
    "        \"f4d77a2c0fd6824f116c10c8b337c912\" : [identifier['Link'][n]] # URL\n",
    "    }\n",
    "    id_entity = Entity(api=api, fields=id_value, bundle_id = \"b29200adff33177fbd630f8b8bb55c60\")\n",
    "    api.save(id_entity)"
   ]
  }
 ],
 "metadata": {
  "kernelspec": {
   "display_name": "Python 3 (ipykernel)",
   "language": "python",
   "name": "python3"
  },
  "language_info": {
   "codemirror_mode": {
    "name": "ipython",
    "version": 3
   },
   "file_extension": ".py",
   "mimetype": "text/x-python",
   "name": "python",
   "nbconvert_exporter": "python",
   "pygments_lexer": "ipython3",
   "version": "3.11.9"
  }
 },
 "nbformat": 4,
 "nbformat_minor": 5
}
