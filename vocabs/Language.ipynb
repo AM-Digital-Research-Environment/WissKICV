{
 "cells": [
  {
   "cell_type": "code",
   "execution_count": 1,
   "id": "73162e5d-3336-49ad-aafc-6fa425d2630e",
   "metadata": {},
   "outputs": [],
   "source": [
    "from wisski.api import Api, Pathbuilder, Entity\n",
    "import pandas as pd"
   ]
  },
  {
   "cell_type": "code",
   "execution_count": 2,
   "id": "2400f2c7-8655-4e37-8b27-9e66404b8285",
   "metadata": {},
   "outputs": [],
   "source": [
    "api_url = \"https://www.wisski.uni-bayreuth.de/wisski/api/v0\"\n",
    "auth = (\"***REMOVED***\", \"***REMOVED***\")\n",
    "headers = {\"Cache-Control\": \"no-cache\"}\n",
    "api = Api(api_url, auth, headers)\n",
    "api.pathbuilders = [\"amo_ecrm__v01_dev_pb\"]"
   ]
  },
  {
   "cell_type": "code",
   "execution_count": 3,
   "id": "dfd12556-83ba-4bfb-81fc-c47725c803bb",
   "metadata": {},
   "outputs": [
    {
     "data": {
      "text/plain": [
       "487"
      ]
     },
     "execution_count": 3,
     "metadata": {},
     "output_type": "execute_result"
    }
   ],
   "source": [
    "lang = pd.read_excel(r\"dictionaries.xlsx\", sheet_name='Language')\n",
    "lang = list(lang.loc[lang['Check'] != 1].reset_index(drop=True).iloc[:,1])\n",
    "len(lang)"
   ]
  },
  {
   "cell_type": "code",
   "execution_count": 5,
   "id": "865287ef-04ea-4622-b7c8-95ea692cfef7",
   "metadata": {},
   "outputs": [
    {
     "data": {
      "text/plain": [
       "<wisski.api.Entity at 0x2287dbc35e0>"
      ]
     },
     "execution_count": 5,
     "metadata": {},
     "output_type": "execute_result"
    }
   ],
   "source": [
    "# Test\n",
    "lang_value = {\"f31de676c78355ed4502ac1bea494bfb\" : [lang[0]]}\n",
    "lang_entity = Entity(api=api, fields=lang_value, bundle_id = \"b968c85cbdedae905ceb69dacc685104\")\n",
    "api.save(lang_entity)"
   ]
  },
  {
   "cell_type": "code",
   "execution_count": 6,
   "id": "b22752bd-f297-4a6a-a619-a76bc425af97",
   "metadata": {},
   "outputs": [],
   "source": [
    "for l in lang[1:]:\n",
    "    lang_value = {\"f31de676c78355ed4502ac1bea494bfb\" : [l]}\n",
    "    lang_entity = Entity(api=api, fields=lang_value, bundle_id = \"b968c85cbdedae905ceb69dacc685104\")\n",
    "    api.save(lang_entity)"
   ]
  }
 ],
 "metadata": {
  "kernelspec": {
   "display_name": "Python 3 (ipykernel)",
   "language": "python",
   "name": "python3"
  },
  "language_info": {
   "codemirror_mode": {
    "name": "ipython",
    "version": 3
   },
   "file_extension": ".py",
   "mimetype": "text/x-python",
   "name": "python",
   "nbconvert_exporter": "python",
   "pygments_lexer": "ipython3",
   "version": "3.10.14"
  }
 },
 "nbformat": 4,
 "nbformat_minor": 5
}
