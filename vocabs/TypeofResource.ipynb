{
 "cells": [
  {
   "cell_type": "code",
   "execution_count": 1,
   "id": "73162e5d-3336-49ad-aafc-6fa425d2630e",
   "metadata": {},
   "outputs": [],
   "source": [
    "from wisski.api import Api, Pathbuilder, Entity\n",
    "import pandas as pd"
   ]
  },
  {
   "cell_type": "code",
   "execution_count": 2,
   "id": "2400f2c7-8655-4e37-8b27-9e66404b8285",
   "metadata": {},
   "outputs": [],
   "source": [
    "api_url = \"http://www.wisski.uni-bayreuth.de/wisski/api/v0\"\n",
    "auth = (\"***REMOVED***\", \"***REMOVED***\")\n",
    "api = Api(api_url, auth, {\"Cache-Control\": \"no-cache\"})\n",
    "api.pathbuilders = [\"amo_ecrm__v01_dev_pb\"]"
   ]
  },
  {
   "cell_type": "code",
   "execution_count": 3,
   "id": "dfd12556-83ba-4bfb-81fc-c47725c803bb",
   "metadata": {},
   "outputs": [
    {
     "data": {
      "text/plain": [
       "['Artefact',\n",
       " 'Audio',\n",
       " 'Notated music',\n",
       " 'Cartographic',\n",
       " 'Image',\n",
       " 'Moving image',\n",
       " 'Text',\n",
       " 'Manuscript',\n",
       " 'Bibliography',\n",
       " 'Dataset',\n",
       " 'Digital',\n",
       " 'Multimedia',\n",
       " 'Mixed material',\n",
       " 'Tactile',\n",
       " 'Unspecified',\n",
       " 'Collection']"
      ]
     },
     "execution_count": 3,
     "metadata": {},
     "output_type": "execute_result"
    }
   ],
   "source": [
    "restype = pd.read_excel(r\"dictionaries.xlsx\", sheet_name='ResourceTypes')\n",
    "restype = list(restype.iloc[:,0])\n",
    "restype"
   ]
  },
  {
   "cell_type": "code",
   "execution_count": 4,
   "id": "35f6af8a-b523-4b13-8130-c3d8e02d2d08",
   "metadata": {},
   "outputs": [
    {
     "ename": "TypeError",
     "evalue": "'NoneType' object is not iterable",
     "output_type": "error",
     "traceback": [
      "\u001b[1;31m---------------------------------------------------------------------------\u001b[0m",
      "\u001b[1;31mTypeError\u001b[0m                                 Traceback (most recent call last)",
      "Cell \u001b[1;32mIn[4], line 3\u001b[0m\n\u001b[0;32m      1\u001b[0m tor \u001b[38;5;241m=\u001b[39m {\u001b[38;5;124m\"\u001b[39m\u001b[38;5;124mf24c0672ab45eed8f1dbc1056d6933db\u001b[39m\u001b[38;5;124m\"\u001b[39m : [restype[\u001b[38;5;241m1\u001b[39m]]}\n\u001b[0;32m      2\u001b[0m tor_entity \u001b[38;5;241m=\u001b[39m Entity(api\u001b[38;5;241m=\u001b[39mapi, fields\u001b[38;5;241m=\u001b[39mtor, bundle_id \u001b[38;5;241m=\u001b[39m \u001b[38;5;124m\"\u001b[39m\u001b[38;5;124mbccb627215dc5e851f9d5e26aa242175\u001b[39m\u001b[38;5;124m\"\u001b[39m)\n\u001b[1;32m----> 3\u001b[0m \u001b[43mapi\u001b[49m\u001b[38;5;241;43m.\u001b[39;49m\u001b[43msave\u001b[49m\u001b[43m(\u001b[49m\u001b[43mtor_entity\u001b[49m\u001b[43m)\u001b[49m\n",
      "File \u001b[1;32m~\\anaconda3\\envs\\WissKI0824\\lib\\site-packages\\wisski\\api.py:464\u001b[0m, in \u001b[0;36mApi.save\u001b[1;34m(self, obj)\u001b[0m\n\u001b[0;32m    451\u001b[0m \u001b[38;5;28;01mdef\u001b[39;00m \u001b[38;5;21msave\u001b[39m(\n\u001b[0;32m    452\u001b[0m     \u001b[38;5;28mself\u001b[39m, obj: Entity \u001b[38;5;241m|\u001b[39m Pathbuilder \u001b[38;5;241m|\u001b[39m \u001b[38;5;28mlist\u001b[39m\n\u001b[0;32m    453\u001b[0m ) \u001b[38;5;241m-\u001b[39m\u001b[38;5;241m>\u001b[39m \u001b[38;5;28mstr\u001b[39m \u001b[38;5;241m|\u001b[39m Entity \u001b[38;5;241m|\u001b[39m Pathbuilder \u001b[38;5;241m|\u001b[39m \u001b[38;5;28mlist\u001b[39m:\n\u001b[0;32m    454\u001b[0m \u001b[38;5;250m    \u001b[39m\u001b[38;5;124;03m\"\"\"Save an entity to the remote.\u001b[39;00m\n\u001b[0;32m    455\u001b[0m \n\u001b[0;32m    456\u001b[0m \u001b[38;5;124;03m    Args:\u001b[39;00m\n\u001b[1;32m   (...)\u001b[0m\n\u001b[0;32m    460\u001b[0m \u001b[38;5;124;03m        str: The response.\u001b[39;00m\n\u001b[0;32m    461\u001b[0m \u001b[38;5;124;03m    \"\"\"\u001b[39;00m\n\u001b[0;32m    462\u001b[0m     \u001b[38;5;28;01mmatch\u001b[39;00m obj:\n\u001b[0;32m    463\u001b[0m         \u001b[38;5;28;01mcase\u001b[39;00m Entity() \u001b[38;5;28;01mas\u001b[39;00m entity:\n\u001b[1;32m--> 464\u001b[0m             \u001b[38;5;28;01mreturn\u001b[39;00m \u001b[38;5;28;43mself\u001b[39;49m\u001b[38;5;241;43m.\u001b[39;49m\u001b[43msave_entities\u001b[49m\u001b[43m(\u001b[49m\u001b[43m[\u001b[49m\u001b[43mentity\u001b[49m\u001b[43m]\u001b[49m\u001b[43m)\u001b[49m[\u001b[38;5;241m0\u001b[39m]\n\u001b[0;32m    465\u001b[0m         \u001b[38;5;28;01mcase\u001b[39;00m Pathbuilder() \u001b[38;5;28;01mas\u001b[39;00m pathbuilder:\n\u001b[0;32m    466\u001b[0m             \u001b[38;5;66;03m# TODO: implement? or see if the flat path format is better suited for im/export...\u001b[39;00m\n\u001b[0;32m    467\u001b[0m             \u001b[38;5;28;01mpass\u001b[39;00m\n\u001b[0;32m    468\u001b[0m         \u001b[38;5;28;01mcase\u001b[39;00m \u001b[38;5;28mlist\u001b[39m() \u001b[38;5;28;01mas\u001b[39;00m objects:\n\u001b[0;32m    469\u001b[0m             \u001b[38;5;28;01mif\u001b[39;00m \u001b[38;5;28mall\u001b[39m(\u001b[38;5;28misinstance\u001b[39m(x, Entity) \u001b[38;5;28;01mfor\u001b[39;00m x \u001b[38;5;129;01min\u001b[39;00m objects):\n\u001b[0;32m    470\u001b[0m                 \u001b[38;5;28;01mreturn\u001b[39;00m \u001b[38;5;28mself\u001b[39m\u001b[38;5;241m.\u001b[39msave_entities(objects)\n\u001b[0;32m    471\u001b[0m             \u001b[38;5;28;01mif\u001b[39;00m \u001b[38;5;28mall\u001b[39m(\u001b[38;5;28misinstance\u001b[39m(x, Pathbuilder) \u001b[38;5;28;01mfor\u001b[39;00m x \u001b[38;5;129;01min\u001b[39;00m objects):\n\u001b[0;32m    472\u001b[0m                 \u001b[38;5;66;03m# TODO: implement?\u001b[39;00m\n\u001b[0;32m    473\u001b[0m                 \u001b[38;5;28;01mpass\u001b[39;00m\n",
      "File \u001b[1;32m~\\anaconda3\\envs\\WissKI0824\\lib\\site-packages\\wisski\\api.py:705\u001b[0m, in \u001b[0;36mApi.save_entities\u001b[1;34m(self, entities, create_if_new)\u001b[0m\n\u001b[0;32m    703\u001b[0m data \u001b[38;5;241m=\u001b[39m []\n\u001b[0;32m    704\u001b[0m \u001b[38;5;28;01mfor\u001b[39;00m entity \u001b[38;5;129;01min\u001b[39;00m entities:\n\u001b[1;32m--> 705\u001b[0m     data\u001b[38;5;241m.\u001b[39mappend(\u001b[43mentity\u001b[49m\u001b[38;5;241;43m.\u001b[39;49m\u001b[43mserialize\u001b[49m\u001b[43m(\u001b[49m\u001b[43m)\u001b[49m)\n\u001b[0;32m    707\u001b[0m \u001b[38;5;66;03m# TODO: find out when this post request fails.\u001b[39;00m\n\u001b[0;32m    708\u001b[0m \u001b[38;5;66;03m# Either due to timeout or request size.\u001b[39;00m\n\u001b[0;32m    709\u001b[0m response \u001b[38;5;241m=\u001b[39m \u001b[38;5;28mself\u001b[39m\u001b[38;5;241m.\u001b[39mpost(url\u001b[38;5;241m=\u001b[39murl, json_data\u001b[38;5;241m=\u001b[39mdata, timeout\u001b[38;5;241m=\u001b[39m\u001b[38;5;241m1200\u001b[39m)\n",
      "File \u001b[1;32m~\\anaconda3\\envs\\WissKI0824\\lib\\site-packages\\wisski\\api.py:282\u001b[0m, in \u001b[0;36mEntity.serialize\u001b[1;34m(self)\u001b[0m\n\u001b[0;32m    279\u001b[0m     entity_data[field_id] \u001b[38;5;241m=\u001b[39m field_data\n\u001b[0;32m    281\u001b[0m \u001b[38;5;66;03m# Copy over the unused field values\u001b[39;00m\n\u001b[1;32m--> 282\u001b[0m \u001b[43mentity_data\u001b[49m\u001b[38;5;241;43m.\u001b[39;49m\u001b[43mupdate\u001b[49m\u001b[43m(\u001b[49m\u001b[38;5;28;43mself\u001b[39;49m\u001b[38;5;241;43m.\u001b[39;49m\u001b[43munused_fields\u001b[49m\u001b[43m)\u001b[49m\n\u001b[0;32m    284\u001b[0m \u001b[38;5;28;01mreturn\u001b[39;00m entity_data\n",
      "\u001b[1;31mTypeError\u001b[0m: 'NoneType' object is not iterable"
     ]
    }
   ],
   "source": [
    "tor = {\"f24c0672ab45eed8f1dbc1056d6933db\" : [restype[1]]}\n",
    "tor_entity = Entity(api=api, fields=tor, bundle_id = \"bccb627215dc5e851f9d5e26aa242175\")\n",
    "api.save(tor_entity)"
   ]
  },
  {
   "cell_type": "code",
   "execution_count": null,
   "id": "b22752bd-f297-4a6a-a619-a76bc425af97",
   "metadata": {},
   "outputs": [],
   "source": [
    "# for r in list(restype.iloc[:,0]):\n",
    "#     tor = {\"f24c0672ab45eed8f1dbc1056d6933db\" : [r]}\n",
    "#     tor_entity = Entity(api=api, fields=tor, bundle_id = \"bccb627215dc5e851f9d5e26aa242175\")\n",
    "#     api.save(tor_entity)"
   ]
  },
  {
   "cell_type": "code",
   "execution_count": 6,
   "id": "40b5842d-015b-467b-8510-15a5853df2b0",
   "metadata": {},
   "outputs": [],
   "source": [
    "entity = api.get_entity(\"http://www.wisski.uni-bayreuth.de/data/66bbc728d1b29\")"
   ]
  },
  {
   "cell_type": "code",
   "execution_count": 8,
   "id": "db93343d-c51b-451d-bd00-5bf7abe9885a",
   "metadata": {},
   "outputs": [
    {
     "data": {
      "text/plain": [
       "{'f24c0672ab45eed8f1dbc1056d6933db': ['Artefact']}"
      ]
     },
     "execution_count": 8,
     "metadata": {},
     "output_type": "execute_result"
    }
   ],
   "source": [
    "entity.fields"
   ]
  }
 ],
 "metadata": {
  "kernelspec": {
   "display_name": "Python 3 (ipykernel)",
   "language": "python",
   "name": "python3"
  },
  "language_info": {
   "codemirror_mode": {
    "name": "ipython",
    "version": 3
   },
   "file_extension": ".py",
   "mimetype": "text/x-python",
   "name": "python",
   "nbconvert_exporter": "python",
   "pygments_lexer": "ipython3",
   "version": "3.10.14"
  }
 },
 "nbformat": 4,
 "nbformat_minor": 5
}
