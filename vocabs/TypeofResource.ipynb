{
 "cells": [
  {
   "cell_type": "code",
   "execution_count": 1,
   "id": "73162e5d-3336-49ad-aafc-6fa425d2630e",
   "metadata": {},
   "outputs": [],
   "source": [
    "from wisski.api import Api, Pathbuilder, Entity\n",
    "import pandas as pd\n",
    "import json\n",
    "import os"
   ]
  },
  {
   "cell_type": "code",
   "execution_count": 2,
   "id": "2400f2c7-8655-4e37-8b27-9e66404b8285",
   "metadata": {},
   "outputs": [],
   "source": [
    "# Load the configuration from the dicts folder\n",
    "config_path = os.path.join(os.path.dirname(__file__), '..', 'dicts', 'config.json')\n",
    "with open(config_path, 'r') as config_file:\n",
    "    config = json.load(config_file)\n",
    "\n",
    "# Initialize the API\n",
    "api_url = \"https://www.wisski.uni-bayreuth.de/wisski/api/v0\"\n",
    "auth = (config['username'], config['password'])\n",
    "headers = {\"Cache-Control\": \"no-cache\"}\n",
    "api = Api(api_url, auth, headers)\n",
    "api.pathbuilders = [\"amo_ecrm__v01_dev_pb\"]"
   ]
  },
  {
   "cell_type": "code",
   "execution_count": 3,
   "id": "dfd12556-83ba-4bfb-81fc-c47725c803bb",
   "metadata": {},
   "outputs": [
    {
     "data": {
      "text/plain": [
       "['Artefact',\n",
       " 'Audio',\n",
       " 'Notated music',\n",
       " 'Cartographic',\n",
       " 'Image',\n",
       " 'Moving image',\n",
       " 'Text',\n",
       " 'Manuscript',\n",
       " 'Bibliography',\n",
       " 'Dataset',\n",
       " 'Digital',\n",
       " 'Multimedia',\n",
       " 'Mixed material',\n",
       " 'Tactile',\n",
       " 'Unspecified',\n",
       " 'Collection']"
      ]
     },
     "execution_count": 3,
     "metadata": {},
     "output_type": "execute_result"
    }
   ],
   "source": [
    "restype = pd.read_excel(r\"dictionaries.xlsx\", sheet_name='ResourceTypes')\n",
    "restype = list(restype.iloc[:,0])\n",
    "restype"
   ]
  },
  {
   "cell_type": "code",
   "execution_count": 4,
   "id": "35f6af8a-b523-4b13-8130-c3d8e02d2d08",
   "metadata": {},
   "outputs": [],
   "source": [
    "# for rt in restype[3:]:\n",
    "#     tor = {\"f24c0672ab45eed8f1dbc1056d6933db\" : [rt]}\n",
    "#     tor_entity = Entity(api=api, fields=tor, bundle_id = \"bccb627215dc5e851f9d5e26aa242175\")\n",
    "#     api.save(tor_entity)"
   ]
  }
 ],
 "metadata": {
  "kernelspec": {
   "display_name": "Python 3 (ipykernel)",
   "language": "python",
   "name": "python3"
  },
  "language_info": {
   "codemirror_mode": {
    "name": "ipython",
    "version": 3
   },
   "file_extension": ".py",
   "mimetype": "text/x-python",
   "name": "python",
   "nbconvert_exporter": "python",
   "pygments_lexer": "ipython3",
   "version": "3.12.4"
  }
 },
 "nbformat": 4,
 "nbformat_minor": 5
}
