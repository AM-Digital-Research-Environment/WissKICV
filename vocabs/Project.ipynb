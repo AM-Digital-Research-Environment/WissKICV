{
 "cells": [
  {
   "cell_type": "code",
   "execution_count": 1,
   "id": "8daf0f20-c8df-4883-9ea1-6f8ad1a5a214",
   "metadata": {},
   "outputs": [
    {
     "data": {
      "text/plain": [
       "'C:\\\\Users\\\\AfricaMultiple\\\\Documents\\\\wisskiDataImport'"
      ]
     },
     "execution_count": 1,
     "metadata": {},
     "output_type": "execute_result"
    }
   ],
   "source": [
    "import os\n",
    "os.chdir(\"C:\\\\Users\\\\AfricaMultiple\\\\Documents\\\\wisskiDataImport\")\n",
    "os.getcwd()"
   ]
  },
  {
   "cell_type": "code",
   "execution_count": 2,
   "id": "73162e5d-3336-49ad-aafc-6fa425d2630e",
   "metadata": {},
   "outputs": [],
   "source": [
    "from api import Api, Pathbuilder, Entity\n",
    "import pandas as pd"
   ]
  },
  {
   "cell_type": "code",
   "execution_count": 3,
   "id": "2400f2c7-8655-4e37-8b27-9e66404b8285",
   "metadata": {},
   "outputs": [],
   "source": [
    "api_url = \"***REMOVED***/wisski/api/v0\"\n",
    "auth = ()\n",
    "headers = {\"Cache-Control\": \"no-cache\"}\n",
    "api = Api(api_url, auth, headers)"
   ]
  },
  {
   "cell_type": "code",
   "execution_count": 4,
   "id": "b6a2ec2a-4fd6-44be-b68c-702aec3da886",
   "metadata": {},
   "outputs": [],
   "source": [
    "api.pathbuilders = ['amo_ecrm__v01_dev_pb']"
   ]
  },
  {
   "cell_type": "code",
   "execution_count": 5,
   "id": "dfd12556-83ba-4bfb-81fc-c47725c803bb",
   "metadata": {},
   "outputs": [
    {
     "data": {
      "text/html": [
       "<div>\n",
       "<style scoped>\n",
       "    .dataframe tbody tr th:only-of-type {\n",
       "        vertical-align: middle;\n",
       "    }\n",
       "\n",
       "    .dataframe tbody tr th {\n",
       "        vertical-align: top;\n",
       "    }\n",
       "\n",
       "    .dataframe thead th {\n",
       "        text-align: right;\n",
       "    }\n",
       "</style>\n",
       "<table border=\"1\" class=\"dataframe\">\n",
       "  <thead>\n",
       "    <tr style=\"text-align: right;\">\n",
       "      <th></th>\n",
       "      <th>ID</th>\n",
       "      <th>Name</th>\n",
       "    </tr>\n",
       "  </thead>\n",
       "  <tbody>\n",
       "    <tr>\n",
       "      <th>70</th>\n",
       "      <td>UBT_ICA2019</td>\n",
       "      <td>Toward an Islamic Cultural Archive (ICA): Buil...</td>\n",
       "    </tr>\n",
       "    <tr>\n",
       "      <th>71</th>\n",
       "      <td>UBT_TravKnowl2019</td>\n",
       "      <td>Travelling Knowledge and Trans*textuality. Afr...</td>\n",
       "    </tr>\n",
       "    <tr>\n",
       "      <th>72</th>\n",
       "      <td>UBT_HumRights2021</td>\n",
       "      <td>When the law is not enough: Tackling intractab...</td>\n",
       "    </tr>\n",
       "    <tr>\n",
       "      <th>73</th>\n",
       "      <td>UBT_ELTVTapes2021</td>\n",
       "      <td>African Knowledges and the History Publication...</td>\n",
       "    </tr>\n",
       "    <tr>\n",
       "      <th>74</th>\n",
       "      <td>ULG_WOMSAGE2020</td>\n",
       "      <td>Women as Sages: Exploring the nature and value...</td>\n",
       "    </tr>\n",
       "  </tbody>\n",
       "</table>\n",
       "</div>"
      ],
      "text/plain": [
       "                   ID                                               Name\n",
       "70        UBT_ICA2019  Toward an Islamic Cultural Archive (ICA): Buil...\n",
       "71  UBT_TravKnowl2019  Travelling Knowledge and Trans*textuality. Afr...\n",
       "72  UBT_HumRights2021  When the law is not enough: Tackling intractab...\n",
       "73  UBT_ELTVTapes2021  African Knowledges and the History Publication...\n",
       "74    ULG_WOMSAGE2020  Women as Sages: Exploring the nature and value..."
      ]
     },
     "execution_count": 5,
     "metadata": {},
     "output_type": "execute_result"
    }
   ],
   "source": [
    "project = pd.read_excel(r\"C:\\Users\\AfricaMultiple\\Filr\\Net Folders\\Group\\ug_amds\\20 WissKI\\WissKI_89\\projIDs20240603.xlsx\", sheet_name='CleanList')\n",
    "# project.columns = project.iloc[0,:]\n",
    "# project = project.drop(0).reset_index(drop=True)\n",
    "project.tail()"
   ]
  },
  {
   "cell_type": "code",
   "execution_count": 7,
   "id": "b22752bd-f297-4a6a-a619-a76bc425af97",
   "metadata": {},
   "outputs": [
    {
     "name": "stdout",
     "output_type": "stream",
     "text": [
      "{'f7c3b1345c372b22cd494c852acdbd7c': ['UBT_EpiMultiling2019'], 'f7973a5419220e8b605041d136061d31': ['Advice as practical epistemology in multilingual Africa - an analysis of expert/ user and user/ user contexts in Cameroon']}\n",
      "{'f7c3b1345c372b22cd494c852acdbd7c': ['UBT_DivAesth2019'], 'f7973a5419220e8b605041d136061d31': ['Aesthetic Dividuations']}\n",
      "{'f7c3b1345c372b22cd494c852acdbd7c': ['UBT_ARefCamps2019'], 'f7973a5419220e8b605041d136061d31': ['Africa in the global history of refugee camps (1940s to 1950s)']}\n",
      "{'f7c3b1345c372b22cd494c852acdbd7c': ['ULG_EthDump2021'], 'f7973a5419220e8b605041d136061d31': ['African Studies without Ethics Dumping: An Integrative Study of Research Ethics Governance in Burkina Faso, Kenya, Nigeria, and South Africa.']}\n",
      "{'f7c3b1345c372b22cd494c852acdbd7c': ['RHD_AfURiv2020'], 'f7973a5419220e8b605041d136061d31': ['African urban complexities and the governance challenges of urban rivers a systemicrelational inquiry']}\n",
      "{'f7c3b1345c372b22cd494c852acdbd7c': ['MOI_EAC2021'], 'f7973a5419220e8b605041d136061d31': ['An Appraisal of factors that influence regional integration in Africa: The case of East African Community (EAC).']}\n",
      "{'f7c3b1345c372b22cd494c852acdbd7c': ['RHD_ASAP2021'], 'f7973a5419220e8b605041d136061d31': ['Approaches to African sonic pedagogies']}\n",
      "{'f7c3b1345c372b22cd494c852acdbd7c': ['UBT_ArtiSoJu2020'], 'f7973a5419220e8b605041d136061d31': ['Artivism, Social Justice and Epistemic Revolution: Situating African Perspectives within the Global South']}\n",
      "{'f7c3b1345c372b22cd494c852acdbd7c': ['UBT_DigRet2022'], 'f7973a5419220e8b605041d136061d31': ['Beyond the Digital Return: New Heritage/s,\\x9d Sustainability, and the Decolonisation of Music Archives_x000D_ in South Africa, Kenya, and Ghana']}\n",
      "{'f7c3b1345c372b22cd494c852acdbd7c': ['UFB_BaL2022'], 'f7973a5419220e8b605041d136061d31': ['Biographies and Liberation: Life Writing in Transversal Perspectives']}\n",
      "{'f7c3b1345c372b22cd494c852acdbd7c': ['UBT_BAR2019'], 'f7973a5419220e8b605041d136061d31': ['Black Atlantic revisited  African and South American UNESCO-World Heritage Sites and Shadowed Spaces of Performative Memory']}\n",
      "{'f7c3b1345c372b22cd494c852acdbd7c': ['MOI_AIMWELL2020'], 'f7973a5419220e8b605041d136061d31': ['Changing Life Projects: African Identities, Moralities and Wellbeing']}\n",
      "{'f7c3b1345c372b22cd494c852acdbd7c': ['UJKZ_CinemaOuaga2021'], 'f7973a5419220e8b605041d136061d31': ['From 2000 to 2022, two decades of fiction films from Burkna Faso: actors/actresses, themes  and aesthetic profiles.']}\n",
      "{'f7c3b1345c372b22cd494c852acdbd7c': ['UBT_ColBody2019'], 'f7973a5419220e8b605041d136061d31': ['Colonial Body Archives : A Media Studies Approach']}\n",
      "{'f7c3b1345c372b22cd494c852acdbd7c': ['UBT_ColComm2021'], 'f7973a5419220e8b605041d136061d31': ['Colonial Commodities - Entanglements in German and West-African History']}\n",
      "{'f7c3b1345c372b22cd494c852acdbd7c': ['UBT_ColLet2019'], 'f7973a5419220e8b605041d136061d31': ['Colonial letters and the contact of knowledges']}\n",
      "{'f7c3b1345c372b22cd494c852acdbd7c': ['RHD_CACom2020'], 'f7973a5419220e8b605041d136061d31': ['Complexities and Adaptations of Communities on the State Borders in Africa']}\n",
      "{'f7c3b1345c372b22cd494c852acdbd7c': ['UJKZ_filmBF2023'], 'f7973a5419220e8b605041d136061d31': ['De 2000 à 2020, deux décennies du cinéma de fiction burkinabè : acteurs/actrices, mises en scène thèmes et profils esthétiques.']}\n",
      "{'f7c3b1345c372b22cd494c852acdbd7c': ['ULG_YoruFolk2021'], 'f7973a5419220e8b605041d136061d31': ['Digitising Yoruba Folktales for Animation and Value Education']}\n",
      "{'f7c3b1345c372b22cd494c852acdbd7c': ['MOI_EAAW2020'], 'f7973a5419220e8b605041d136061d31': ['East African Asian Writing and the Emergence of a Diasporic Subjectivity']}\n",
      "{'f7c3b1345c372b22cd494c852acdbd7c': ['UJKZ_EthLigMo2022'], 'f7973a5419220e8b605041d136061d31': ['Ethics and Legitimacies in Modification of Moving Material Cultures in North Rift, Kenya']}\n",
      "{'f7c3b1345c372b22cd494c852acdbd7c': ['UJKZ / UBT_FluOnt2023'], 'f7973a5419220e8b605041d136061d31': ['Fluid ontologies of contestation']}\n",
      "{'f7c3b1345c372b22cd494c852acdbd7c': ['MOI_FIHAM2020'], 'f7973a5419220e8b605041d136061d31': ['Framing Identities from Human Agency Mobility on the Kenya-Uganda Highway']}\n",
      "{'f7c3b1345c372b22cd494c852acdbd7c': ['UJKZ_GLOBHEALTH2021'], 'f7973a5419220e8b605041d136061d31': ['Globalization and health policy in West Africa']}\n",
      "{'f7c3b1345c372b22cd494c852acdbd7c': ['UBT_HDMC 2019'], 'f7973a5419220e8b605041d136061d31': [\"Health discourses as moral communication? Linguistic case studies from Côte d'Ivoire and Cameroon\"]}\n",
      "{'f7c3b1345c372b22cd494c852acdbd7c': ['UBT_HRCSRIMA2019'], 'f7973a5419220e8b605041d136061d31': ['Human Rights, Corporate Social Responsibility, and Interacting Markets in Africa']}\n",
      "{'f7c3b1345c372b22cd494c852acdbd7c': ['UBT_HUMANITAR2019'], 'f7973a5419220e8b605041d136061d31': ['Humanities for Humanitarians']}\n",
      "{'f7c3b1345c372b22cd494c852acdbd7c': ['UBT_ICDL'], 'f7973a5419220e8b605041d136061d31': [0]}\n",
      "{'f7c3b1345c372b22cd494c852acdbd7c': ['MOI_IndIntLiv2021'], 'f7973a5419220e8b605041d136061d31': ['Indigenous Intelligence and Livelihoods in Africa: Knowledge Systems in Selected Communities in Kenya']}\n",
      "{'f7c3b1345c372b22cd494c852acdbd7c': ['ULG_MigXeno2020'], 'f7973a5419220e8b605041d136061d31': ['Intra-Africa Migration and Xenophobia: The Imperatives for African Integration.']}\n",
      "{'f7c3b1345c372b22cd494c852acdbd7c': ['Yaounde_InvIntel2021'], 'f7973a5419220e8b605041d136061d31': ['Invisible Intellectuals ? \"Endangered Scholars\" and the question of African academic mobilities']}\n",
      "{'f7c3b1345c372b22cd494c852acdbd7c': ['MOI_IslPopCul2022'], 'f7973a5419220e8b605041d136061d31': ['Islamic Popular Culture and Public Performance Practices: The Production, Transmission of Religious Knowledge and Creation of Cultural Identity in Africa']}\n",
      "{'f7c3b1345c372b22cd494c852acdbd7c': ['UBT_PEMESWA2021'], 'f7973a5419220e8b605041d136061d31': ['The political economy of monetary and financial dependency: West African policy space compared']}\n",
      "{'f7c3b1345c372b22cd494c852acdbd7c': ['UJKZ_JITBF2021'], 'f7973a5419220e8b605041d136061d31': ['Judicial Institutions and Teenagers/Young people in Burkina Faso: Â«Life outside, inside and outside prison\". A construction of the social trajectories of teenagers and young people incarcerated and released from detention centres in Burkina Faso.']}\n",
      "{'f7c3b1345c372b22cd494c852acdbd7c': ['UBT_Karakul2019'], 'f7973a5419220e8b605041d136061d31': ['Karakul Circulations: Colonial Economies and the Un_Making of Disciplinary Knowledges in Germany and Namibia']}\n",
      "{'f7c3b1345c372b22cd494c852acdbd7c': ['UJKZ_KnowFranco2021'], 'f7973a5419220e8b605041d136061d31': ['Knowledge State in Francophone West Africa: Experience of the State and Institutionalization of Science in Burkina Faso and Senegal']}\n",
      "{'f7c3b1345c372b22cd494c852acdbd7c': ['UBT_LearnClass2019'], 'f7973a5419220e8b605041d136061d31': ['Learning beyond the classroom: Coping with illiteracy in urban literate environments in Bolivia and Benin']}\n",
      "{'f7c3b1345c372b22cd494c852acdbd7c': ['UJKZ_SEDPaix2019'], 'f7973a5419220e8b605041d136061d31': ['Les sources endogènes de dialogue et de paix contre le terrorisme']}\n",
      "{'f7c3b1345c372b22cd494c852acdbd7c': ['ULG_Albatross2021'], 'f7973a5419220e8b605041d136061d31': ['Locating the Albatross in Women´s Political Participation in Sub-Saharan Africa']}\n",
      "{'f7c3b1345c372b22cd494c852acdbd7c': ['UBT_MaL2019'], 'f7973a5419220e8b605041d136061d31': ['Making a Living: Learning trajectories towards the ability to earn a livelihood']}\n",
      "{'f7c3b1345c372b22cd494c852acdbd7c': ['MOI_MeMaIslKnow2020'], 'f7973a5419220e8b605041d136061d31': ['Mediated and Mediatization of Islamic Knowledge in Kenya: Educational Institutions, Media Technologies and Performative Aesthetics']}\n",
      "{'f7c3b1345c372b22cd494c852acdbd7c': ['UBT_MiConIturi2019'], 'f7973a5419220e8b605041d136061d31': ['Migration and Conflict in Ituri']}\n",
      "{'f7c3b1345c372b22cd494c852acdbd7c': ['ULG_MiCoFoIm2020'], 'f7973a5419220e8b605041d136061d31': ['Migration Control, Forced Immobility & Violent Mobilization']}\n",
      "{'f7c3b1345c372b22cd494c852acdbd7c': ['UJKZ_MiCoViCvd2022'], 'f7973a5419220e8b605041d136061d31': ['Migration Control, Violence and Covid 19: (Im)Mobility Regimes in the Borderlands of Burkina Faso, Benin and Niger']}\n",
      "{'f7c3b1345c372b22cd494c852acdbd7c': ['UBT_MoCapIE2021'], 'f7973a5419220e8b605041d136061d31': ['Mobile capital and (im)mobile entrepreneurs: Start-up success, institutional context and the â€œlaws of _x000D_\\nstart-up moneyâ€\\x9d in Silicon Savannah']}\n",
      "{'f7c3b1345c372b22cd494c852acdbd7c': ['ULG_MFWA2021'], 'f7973a5419220e8b605041d136061d31': ['Mobilities and Flows Across West African Urban Corridors']}\n",
      "{'f7c3b1345c372b22cd494c852acdbd7c': ['UBT_Covid192021'], 'f7973a5419220e8b605041d136061d31': ['Mobilities and Socialities: COVID-19 in the Drylands of Africa and Beyond']}\n",
      "{'f7c3b1345c372b22cd494c852acdbd7c': ['UBT_MoGeoRe2019'], 'f7973a5419220e8b605041d136061d31': ['Moral Geographies of (Re)Existence: Doing Ethics in UNESCO World Heritage Sites of Transatlantic Slave Trade in South America and Africa']}\n",
      "{'f7c3b1345c372b22cd494c852acdbd7c': ['UBT_MultiALS2021'], 'f7973a5419220e8b605041d136061d31': ['Multilingual African Learning Spaces: Translanguaging Practices in the Kenyan Classroom']}\n",
      "{'f7c3b1345c372b22cd494c852acdbd7c': ['UBT_ArtMultIndOc2019'], 'f7973a5419220e8b605041d136061d31': ['Multiple Artworks  Multiple Indian Ocean']}\n",
      "{'f7c3b1345c372b22cd494c852acdbd7c': ['UBT_MAMIO'], 'f7973a5419220e8b605041d136061d31': [0]}\n",
      "{'f7c3b1345c372b22cd494c852acdbd7c': ['UBT_MuDAIMa-PRJ2019'], 'f7973a5419220e8b605041d136061d31': ['Multiplicity in Decision-Making of Africaâ€™s Interacting Markets: The Functioning of Community Law, the Role of Market Participants and the Power of Regional Judges']}\n",
      "{'f7c3b1345c372b22cd494c852acdbd7c': ['UBT_MuDAIMa2019'], 'f7973a5419220e8b605041d136061d31': ['Multiplicity in Decision-Making of Africa´s Interacting Markets: The Functioning of Community Law, the Role of Market Participants and the Power of Regional Judges']}\n",
      "{'f7c3b1345c372b22cd494c852acdbd7c': ['ULG_MunRoad2021'], 'f7973a5419220e8b605041d136061d31': ['Municipal Road Construction in Kenya and Nigeria: Investigating the Politics of Infrastructure Development']}\n",
      "{'f7c3b1345c372b22cd494c852acdbd7c': ['UBT_ArtWorld2019'], 'f7973a5419220e8b605041d136061d31': ['\"Of Art Worlds “ Collecting and Archiving Modern and Contemporary Art on the African Continent']}\n",
      "{'f7c3b1345c372b22cd494c852acdbd7c': ['UBT_OilMov2019'], 'f7973a5419220e8b605041d136061d31': ['Oil movements: the production and government of petro-(im)mobilities in East Africa']}\n",
      "{'f7c3b1345c372b22cd494c852acdbd7c': ['UBT_POCEE2019'], 'f7973a5419220e8b605041d136061d31': ['Planned obsolescence, circular economies and ecologies of electronic devices in transdisciplinary perspective']}\n",
      "{'f7c3b1345c372b22cd494c852acdbd7c': ['UBT_Plura2021'], 'f7973a5419220e8b605041d136061d31': ['PLURA 2.0']}\n",
      "{'f7c3b1345c372b22cd494c852acdbd7c': ['UBT_PolUnknown2021'], 'f7973a5419220e8b605041d136061d31': ['Politics of the Unknown: Conspiracism and Conflict']}\n",
      "{'f7c3b1345c372b22cd494c852acdbd7c': ['MOI_PotsFireGo2022'], 'f7973a5419220e8b605041d136061d31': ['Pots, Fire and Gourds: A (Re)presentation of Cultural knowledge Systems Among the Bukusu, Iteso, Sabaot and Yoruba']}\n",
      "{'f7c3b1345c372b22cd494c852acdbd7c': ['UBT_SpittGer2021'], 'f7973a5419220e8b605041d136061d31': ['Pre-Death Bequest']}\n",
      "{'f7c3b1345c372b22cd494c852acdbd7c': ['UBT_PolitPost2022'], 'f7973a5419220e8b605041d136061d31': ['Reconstituting the Political in Postcolonial Africa']}\n",
      "{'f7c3b1345c372b22cd494c852acdbd7c': ['UBT_RelEng2019'], 'f7973a5419220e8b605041d136061d31': ['\"Religious engineering\" the making of moralities, development and religion in Niger']}\n",
      "{'f7c3b1345c372b22cd494c852acdbd7c': ['ULG_RIMAPAE2020'], 'f7973a5419220e8b605041d136061d31': ['Rethinking the Informal\\x9d and Mainstreaming African Popular Arts and Entertainment']}\n",
      "{'f7c3b1345c372b22cd494c852acdbd7c': ['ULG_RATAWA2020'], 'f7973a5419220e8b605041d136061d31': ['Rethinking the Artistic Trajectory of African Women Artists']}\n",
      "{'f7c3b1345c372b22cd494c852acdbd7c': ['UBT_SPORA2021'], 'f7973a5419220e8b605041d136061d31': ['Sexualities, Political Orders and Revolutions in Africa: Into the heart of Tunisia, Ethiopia and Sudan']}\n",
      "{'f7c3b1345c372b22cd494c852acdbd7c': ['UBT_Woodlands2019'], 'f7973a5419220e8b605041d136061d31': ['Socio-ecological drivers of movements into and out of African Woodlands']}\n",
      "{'f7c3b1345c372b22cd494c852acdbd7c': ['ULG_SoTOrun2022'], 'f7973a5419220e8b605041d136061d31': ['The Socio-Political Thought of Orunmila']}\n",
      "{'f7c3b1345c372b22cd494c852acdbd7c': ['RHD_SoundAfr2020'], 'f7973a5419220e8b605041d136061d31': ['Sounding Africa on the Indian Ocean littoral and in the Southwestern Indian Ocean']}\n",
      "{'f7c3b1345c372b22cd494c852acdbd7c': ['UBT_TaiSha2021'], 'f7973a5419220e8b605041d136061d31': ['Taiwo Shango']}\n",
      "{'f7c3b1345c372b22cd494c852acdbd7c': ['UBT_ICA2019'], 'f7973a5419220e8b605041d136061d31': ['Toward an Islamic Cultural Archive (ICA): Building a Collaborative Database of Islamic Learning in Africa']}\n",
      "{'f7c3b1345c372b22cd494c852acdbd7c': ['UBT_TravKnowl2019'], 'f7973a5419220e8b605041d136061d31': ['Travelling Knowledge and Trans*textuality. African Sources in Shakespearean Drama']}\n",
      "{'f7c3b1345c372b22cd494c852acdbd7c': ['UBT_HumRights2021'], 'f7973a5419220e8b605041d136061d31': ['When the law is not enough: Tackling intractable problems of human rights“Prospects for integrated approaches']}\n",
      "{'f7c3b1345c372b22cd494c852acdbd7c': ['UBT_ELTVTapes2021'], 'f7973a5419220e8b605041d136061d31': ['African Knowledges and the History Publication since the 1970s']}\n",
      "{'f7c3b1345c372b22cd494c852acdbd7c': ['ULG_WOMSAGE2020'], 'f7973a5419220e8b605041d136061d31': ['Women as Sages: Exploring the nature and value of Feminine Wisdom']}\n"
     ]
    }
   ],
   "source": [
    "# for n in range(len(project)):\n",
    "#     tor = {\"f7c3b1345c372b22cd494c852acdbd7c\" : [project['ID'][n]],\n",
    "#            \"f7973a5419220e8b605041d136061d31\" : [project['Name'][n]]}\n",
    "#     print(tor)\n",
    "#     tor_entity = Entity(api=api, fields=tor, bundle_id = \"ba1e7af833adef9939211124f902b3b3\")\n",
    "#     api.save(tor_entity)"
   ]
  }
 ],
 "metadata": {
  "kernelspec": {
   "display_name": "Python 3 (ipykernel)",
   "language": "python",
   "name": "python3"
  },
  "language_info": {
   "codemirror_mode": {
    "name": "ipython",
    "version": 3
   },
   "file_extension": ".py",
   "mimetype": "text/x-python",
   "name": "python",
   "nbconvert_exporter": "python",
   "pygments_lexer": "ipython3",
   "version": "3.10.14"
  }
 },
 "nbformat": 4,
 "nbformat_minor": 5
}
