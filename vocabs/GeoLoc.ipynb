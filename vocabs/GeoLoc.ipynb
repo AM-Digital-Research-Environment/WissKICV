{
 "cells": [
  {
   "cell_type": "code",
   "execution_count": 1,
   "id": "8daf0f20-c8df-4883-9ea1-6f8ad1a5a214",
   "metadata": {},
   "outputs": [
    {
     "data": {
      "text/plain": [
       "'C:\\\\Users\\\\AfricaMultiple\\\\Documents\\\\wisskiDataImport'"
      ]
     },
     "execution_count": 1,
     "metadata": {},
     "output_type": "execute_result"
    }
   ],
   "source": [
    "import os\n",
    "os.chdir(\"C:\\\\Users\\\\AfricaMultiple\\\\Documents\\\\wisskiDataImport\")\n",
    "os.getcwd()"
   ]
  },
  {
   "cell_type": "code",
   "execution_count": 2,
   "id": "73162e5d-3336-49ad-aafc-6fa425d2630e",
   "metadata": {},
   "outputs": [],
   "source": [
    "from wisski.api import Api, Pathbuilder, Entity\n",
    "import pandas as pd"
   ]
  },
  {
   "cell_type": "code",
   "execution_count": 3,
   "id": "2400f2c7-8655-4e37-8b27-9e66404b8285",
   "metadata": {},
   "outputs": [],
   "source": [
    "api_url = \"***REMOVED***/wisski/api/v0\"\n",
    "auth = ()\n",
    "headers = {\"Cache-Control\": \"no-cache\"}\n",
    "api = Api(api_url, auth, headers)"
   ]
  },
  {
   "cell_type": "code",
   "execution_count": 4,
   "id": "b6a2ec2a-4fd6-44be-b68c-702aec3da886",
   "metadata": {},
   "outputs": [],
   "source": [
    "api.pathbuilders = ['amo_ecrm__v01_dev_pb']"
   ]
  },
  {
   "cell_type": "code",
   "execution_count": 5,
   "id": "dfd12556-83ba-4bfb-81fc-c47725c803bb",
   "metadata": {},
   "outputs": [
    {
     "data": {
      "text/html": [
       "<div>\n",
       "<style scoped>\n",
       "    .dataframe tbody tr th:only-of-type {\n",
       "        vertical-align: middle;\n",
       "    }\n",
       "\n",
       "    .dataframe tbody tr th {\n",
       "        vertical-align: top;\n",
       "    }\n",
       "\n",
       "    .dataframe thead th {\n",
       "        text-align: right;\n",
       "    }\n",
       "</style>\n",
       "<table border=\"1\" class=\"dataframe\">\n",
       "  <thead>\n",
       "    <tr style=\"text-align: right;\">\n",
       "      <th></th>\n",
       "      <th>country</th>\n",
       "      <th>countryLabel</th>\n",
       "      <th>state</th>\n",
       "      <th>stateLabel</th>\n",
       "    </tr>\n",
       "  </thead>\n",
       "  <tbody>\n",
       "    <tr>\n",
       "      <th>0</th>\n",
       "      <td>http://www.wikidata.org/entity/Q784</td>\n",
       "      <td>Dominica</td>\n",
       "      <td>http://www.wikidata.org/entity/Q339063</td>\n",
       "      <td>Saint Paul Parish</td>\n",
       "    </tr>\n",
       "    <tr>\n",
       "      <th>1</th>\n",
       "      <td>http://www.wikidata.org/entity/Q784</td>\n",
       "      <td>Dominica</td>\n",
       "      <td>http://www.wikidata.org/entity/Q617801</td>\n",
       "      <td>Saint George Parish</td>\n",
       "    </tr>\n",
       "    <tr>\n",
       "      <th>2</th>\n",
       "      <td>http://www.wikidata.org/entity/Q784</td>\n",
       "      <td>Dominica</td>\n",
       "      <td>http://www.wikidata.org/entity/Q732322</td>\n",
       "      <td>Saint Andrew Parish</td>\n",
       "    </tr>\n",
       "    <tr>\n",
       "      <th>3</th>\n",
       "      <td>http://www.wikidata.org/entity/Q784</td>\n",
       "      <td>Dominica</td>\n",
       "      <td>http://www.wikidata.org/entity/Q1431099</td>\n",
       "      <td>Saint Luke Parish</td>\n",
       "    </tr>\n",
       "    <tr>\n",
       "      <th>4</th>\n",
       "      <td>http://www.wikidata.org/entity/Q784</td>\n",
       "      <td>Dominica</td>\n",
       "      <td>http://www.wikidata.org/entity/Q1431108</td>\n",
       "      <td>Saint Patrick Parish</td>\n",
       "    </tr>\n",
       "  </tbody>\n",
       "</table>\n",
       "</div>"
      ],
      "text/plain": [
       "                               country countryLabel  \\\n",
       "0  http://www.wikidata.org/entity/Q784     Dominica   \n",
       "1  http://www.wikidata.org/entity/Q784     Dominica   \n",
       "2  http://www.wikidata.org/entity/Q784     Dominica   \n",
       "3  http://www.wikidata.org/entity/Q784     Dominica   \n",
       "4  http://www.wikidata.org/entity/Q784     Dominica   \n",
       "\n",
       "                                     state            stateLabel  \n",
       "0   http://www.wikidata.org/entity/Q339063     Saint Paul Parish  \n",
       "1   http://www.wikidata.org/entity/Q617801   Saint George Parish  \n",
       "2   http://www.wikidata.org/entity/Q732322   Saint Andrew Parish  \n",
       "3  http://www.wikidata.org/entity/Q1431099     Saint Luke Parish  \n",
       "4  http://www.wikidata.org/entity/Q1431108  Saint Patrick Parish  "
      ]
     },
     "execution_count": 5,
     "metadata": {},
     "output_type": "execute_result"
    }
   ],
   "source": [
    "restype = pd.read_excel(r\"C:\\Users\\AfricaMultiple\\Filr\\Net Folders\\Group\\ug_amds\\20 WissKI\\WissKI_89\\geoloc_query_results.xlsx\")\n",
    "restype.head()"
   ]
  },
  {
   "cell_type": "code",
   "execution_count": 6,
   "id": "2567ba6e-4e03-46a2-aa3a-8ca37f1243b6",
   "metadata": {},
   "outputs": [
    {
     "data": {
      "text/plain": [
       "212"
      ]
     },
     "execution_count": 6,
     "metadata": {},
     "output_type": "execute_result"
    }
   ],
   "source": [
    "country = restype.filter(regex=\"country\").drop_duplicates(subset='country').reset_index(drop=True)\n",
    "len(country)"
   ]
  },
  {
   "cell_type": "code",
   "execution_count": 7,
   "id": "e0329f75-9c14-43e6-8d32-b00560805a84",
   "metadata": {},
   "outputs": [],
   "source": [
    "country = country.iloc[:5,:]"
   ]
  },
  {
   "cell_type": "code",
   "execution_count": 11,
   "id": "6151ead8-86fb-4072-ba17-f2a9f279e00a",
   "metadata": {},
   "outputs": [
    {
     "data": {
      "text/plain": [
       "['Dominica', 'Dominican Republic', 'El Salvador', 'Iran', 'Iraq']"
      ]
     },
     "execution_count": 11,
     "metadata": {},
     "output_type": "execute_result"
    }
   ],
   "source": [
    "list(country.countryLabel)"
   ]
  },
  {
   "cell_type": "code",
   "execution_count": 10,
   "id": "b22752bd-f297-4a6a-a619-a76bc425af97",
   "metadata": {},
   "outputs": [],
   "source": [
    "# for n in range(len(country)):\n",
    "#     tor = {\"f5e26e1dee3fdf0fbb571b7cf2ebbf67\" : [country['countryLabel'][n]],\n",
    "#            \"f2aec75a7c35b2325947b12f1b55e523\" : [country['country'][n]]}\n",
    "#     tor_entity = Entity(api=api, fields=tor, bundle_id = \"b1c8a6b3dd95ee518b79f82f91e48d99\")\n",
    "#     api.save(tor_entity)"
   ]
  }
 ],
 "metadata": {
  "kernelspec": {
   "display_name": "Python 3 (ipykernel)",
   "language": "python",
   "name": "python3"
  },
  "language_info": {
   "codemirror_mode": {
    "name": "ipython",
    "version": 3
   },
   "file_extension": ".py",
   "mimetype": "text/x-python",
   "name": "python",
   "nbconvert_exporter": "python",
   "pygments_lexer": "ipython3",
   "version": "3.10.14"
  }
 },
 "nbformat": 4,
 "nbformat_minor": 5
}
