{
 "cells": [
  {
   "cell_type": "code",
   "execution_count": 1,
   "id": "73162e5d-3336-49ad-aafc-6fa425d2630e",
   "metadata": {},
   "outputs": [],
   "source": [
    "from wisski.api import Api, Pathbuilder, Entity\n",
    "import pandas as pd\n",
    "import json\n",
    "import os"
   ]
  },
  {
   "cell_type": "code",
   "execution_count": 2,
   "id": "2400f2c7-8655-4e37-8b27-9e66404b8285",
   "metadata": {},
   "outputs": [],
   "source": [
    "# Load the configuration from the dicts folder\n",
    "config_path = os.path.join(os.path.dirname(__file__), '..', 'dicts', 'config.json')\n",
    "with open(config_path, 'r') as config_file:\n",
    "    config = json.load(config_file)\n",
    "\n",
    "# Initialize the API\n",
    "api_url = \"https://www.wisski.uni-bayreuth.de/wisski/api/v0\"\n",
    "auth = (config['username'], config['password'])\n",
    "headers = {\"Cache-Control\": \"no-cache\"}\n",
    "api = Api(api_url, auth, headers)\n",
    "api.pathbuilders = [\"amo_ecrm__v01_dev_pb\"]"
   ]
  },
  {
   "cell_type": "code",
   "execution_count": 3,
   "id": "dfd12556-83ba-4bfb-81fc-c47725c803bb",
   "metadata": {},
   "outputs": [
    {
     "data": {
      "text/html": [
       "<div>\n",
       "<style scoped>\n",
       "    .dataframe tbody tr th:only-of-type {\n",
       "        vertical-align: middle;\n",
       "    }\n",
       "\n",
       "    .dataframe tbody tr th {\n",
       "        vertical-align: top;\n",
       "    }\n",
       "\n",
       "    .dataframe thead th {\n",
       "        text-align: right;\n",
       "    }\n",
       "</style>\n",
       "<table border=\"1\" class=\"dataframe\">\n",
       "  <thead>\n",
       "    <tr style=\"text-align: right;\">\n",
       "      <th></th>\n",
       "      <th>Name</th>\n",
       "      <th>Identifier</th>\n",
       "      <th>Link</th>\n",
       "    </tr>\n",
       "  </thead>\n",
       "  <tbody>\n",
       "    <tr>\n",
       "      <th>0</th>\n",
       "      <td>BSD Zero Clause License</td>\n",
       "      <td>0BSD</td>\n",
       "      <td>https://spdx.org/licenses/0BSD.html</td>\n",
       "    </tr>\n",
       "    <tr>\n",
       "      <th>1</th>\n",
       "      <td>3D Slicer License v1.0</td>\n",
       "      <td>3D-Slicer-1.0</td>\n",
       "      <td>https://spdx.org/licenses/3D-Slicer-1.0.html</td>\n",
       "    </tr>\n",
       "    <tr>\n",
       "      <th>2</th>\n",
       "      <td>Attribution Assurance License</td>\n",
       "      <td>AAL</td>\n",
       "      <td>https://spdx.org/licenses/AAL.html</td>\n",
       "    </tr>\n",
       "    <tr>\n",
       "      <th>3</th>\n",
       "      <td>Abstyles License</td>\n",
       "      <td>Abstyles</td>\n",
       "      <td>https://spdx.org/licenses/Abstyles.html</td>\n",
       "    </tr>\n",
       "    <tr>\n",
       "      <th>4</th>\n",
       "      <td>AdaCore Doc License</td>\n",
       "      <td>AdaCore-doc</td>\n",
       "      <td>https://spdx.org/licenses/AdaCore-doc.html</td>\n",
       "    </tr>\n",
       "  </tbody>\n",
       "</table>\n",
       "</div>"
      ],
      "text/plain": [
       "                            Name     Identifier  \\\n",
       "0        BSD Zero Clause License           0BSD   \n",
       "1         3D Slicer License v1.0  3D-Slicer-1.0   \n",
       "2  Attribution Assurance License            AAL   \n",
       "3               Abstyles License       Abstyles   \n",
       "4            AdaCore Doc License    AdaCore-doc   \n",
       "\n",
       "                                           Link  \n",
       "0           https://spdx.org/licenses/0BSD.html  \n",
       "1  https://spdx.org/licenses/3D-Slicer-1.0.html  \n",
       "2            https://spdx.org/licenses/AAL.html  \n",
       "3       https://spdx.org/licenses/Abstyles.html  \n",
       "4    https://spdx.org/licenses/AdaCore-doc.html  "
      ]
     },
     "execution_count": 3,
     "metadata": {},
     "output_type": "execute_result"
    }
   ],
   "source": [
    "license = pd.read_excel(r\"dictionaries.xlsx\", sheet_name='licenses')\n",
    "license.head()"
   ]
  },
  {
   "cell_type": "code",
   "execution_count": 4,
   "id": "7cd2e81d-cf1b-4cc9-b0d6-c8e673908689",
   "metadata": {},
   "outputs": [],
   "source": [
    "# Test\n",
    "\n",
    "# license_value = {\n",
    "#     \"f94c7f977162542efe31599cf2f136f6\" : [license['Name'][0]],\n",
    "#     \"fc19905f025dd590ccd4ecd5a4ee2316\" : [license['Identifier'][0]],\n",
    "#     \"f9d239d7b42a4a7188c930355058b35b\" : [license['Link'][0]]\n",
    "# }\n",
    "\n",
    "# license_entity = Entity(api=api, fields=license_value, bundle_id = \"bde1d77d1d8673e74663a59875f86e2c\")\n",
    "# api.save(license_entity)"
   ]
  },
  {
   "cell_type": "code",
   "execution_count": 5,
   "id": "b22752bd-f297-4a6a-a619-a76bc425af97",
   "metadata": {},
   "outputs": [],
   "source": [
    "for n in range(1, len(license)):\n",
    "    license_value = {\n",
    "        \"f94c7f977162542efe31599cf2f136f6\" : [license['Name'][n]],\n",
    "        \"fc19905f025dd590ccd4ecd5a4ee2316\" : [license['Identifier'][n]],\n",
    "        \"f9d239d7b42a4a7188c930355058b35b\" : [license['Link'][n]]\n",
    "    }\n",
    "    \n",
    "    license_entity = Entity(api=api, fields=license_value, bundle_id = \"bde1d77d1d8673e74663a59875f86e2c\")\n",
    "    api.save(license_entity)"
   ]
  }
 ],
 "metadata": {
  "kernelspec": {
   "display_name": "Python 3 (ipykernel)",
   "language": "python",
   "name": "python3"
  },
  "language_info": {
   "codemirror_mode": {
    "name": "ipython",
    "version": 3
   },
   "file_extension": ".py",
   "mimetype": "text/x-python",
   "name": "python",
   "nbconvert_exporter": "python",
   "pygments_lexer": "ipython3",
   "version": "3.10.14"
  }
 },
 "nbformat": 4,
 "nbformat_minor": 5
}
