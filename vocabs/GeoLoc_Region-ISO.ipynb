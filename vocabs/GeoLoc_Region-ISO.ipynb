{
 "cells": [
  {
   "cell_type": "code",
   "execution_count": 1,
   "id": "73162e5d-3336-49ad-aafc-6fa425d2630e",
   "metadata": {},
   "outputs": [],
   "source": [
    "from wisski.api import Api, Pathbuilder, Entity\n",
    "import pandas as pd\n",
    "import json"
   ]
  },
  {
   "cell_type": "code",
   "execution_count": 2,
   "id": "2400f2c7-8655-4e37-8b27-9e66404b8285",
   "metadata": {},
   "outputs": [],
   "source": [
    "# Load the configuration\n",
    "with open('config.json', 'r') as config_file:\n",
    "    config = json.load(config_file)\n",
    "\n",
    "# Initialize the API\n",
    "api_url = \"https://www.wisski.uni-bayreuth.de/wisski/api/v0\"\n",
    "auth = (config['username'], config['password'])\n",
    "headers = {\"Cache-Control\": \"no-cache\"}\n",
    "api = Api(api_url, auth, headers)\n",
    "api.pathbuilders = [\"amo_ecrm__v01_dev_pb\"]"
   ]
  },
  {
   "cell_type": "code",
   "execution_count": 3,
   "id": "dfd12556-83ba-4bfb-81fc-c47725c803bb",
   "metadata": {},
   "outputs": [
    {
     "data": {
      "text/html": [
       "<div>\n",
       "<style scoped>\n",
       "    .dataframe tbody tr th:only-of-type {\n",
       "        vertical-align: middle;\n",
       "    }\n",
       "\n",
       "    .dataframe tbody tr th {\n",
       "        vertical-align: top;\n",
       "    }\n",
       "\n",
       "    .dataframe thead th {\n",
       "        text-align: right;\n",
       "    }\n",
       "</style>\n",
       "<table border=\"1\" class=\"dataframe\">\n",
       "  <thead>\n",
       "    <tr style=\"text-align: right;\">\n",
       "      <th></th>\n",
       "      <th>CountryURI</th>\n",
       "      <th>Code</th>\n",
       "      <th>CodeNew</th>\n",
       "      <th>RegionLabel</th>\n",
       "    </tr>\n",
       "  </thead>\n",
       "  <tbody>\n",
       "    <tr>\n",
       "      <th>0</th>\n",
       "      <td>http://www.wisski.uni-bayreuth.de/data/66bda6d...</td>\n",
       "      <td>CD-BU</td>\n",
       "      <td>ISO3166-CD-BU</td>\n",
       "      <td>Bas-Uélé</td>\n",
       "    </tr>\n",
       "    <tr>\n",
       "      <th>1</th>\n",
       "      <td>http://www.wisski.uni-bayreuth.de/data/66bda6d...</td>\n",
       "      <td>CD-EQ</td>\n",
       "      <td>ISO3166-CD-EQ</td>\n",
       "      <td>Équateur</td>\n",
       "    </tr>\n",
       "    <tr>\n",
       "      <th>2</th>\n",
       "      <td>http://www.wisski.uni-bayreuth.de/data/66bda6d...</td>\n",
       "      <td>CD-HK</td>\n",
       "      <td>ISO3166-CD-HK</td>\n",
       "      <td>Haut-Katanga</td>\n",
       "    </tr>\n",
       "    <tr>\n",
       "      <th>3</th>\n",
       "      <td>http://www.wisski.uni-bayreuth.de/data/66bda6d...</td>\n",
       "      <td>CD-HL</td>\n",
       "      <td>ISO3166-CD-HL</td>\n",
       "      <td>Haut-Lomami</td>\n",
       "    </tr>\n",
       "    <tr>\n",
       "      <th>4</th>\n",
       "      <td>http://www.wisski.uni-bayreuth.de/data/66bda6d...</td>\n",
       "      <td>CD-HU</td>\n",
       "      <td>ISO3166-CD-HU</td>\n",
       "      <td>Haut-Uélé</td>\n",
       "    </tr>\n",
       "  </tbody>\n",
       "</table>\n",
       "</div>"
      ],
      "text/plain": [
       "                                          CountryURI   Code        CodeNew  \\\n",
       "0  http://www.wisski.uni-bayreuth.de/data/66bda6d...  CD-BU  ISO3166-CD-BU   \n",
       "1  http://www.wisski.uni-bayreuth.de/data/66bda6d...  CD-EQ  ISO3166-CD-EQ   \n",
       "2  http://www.wisski.uni-bayreuth.de/data/66bda6d...  CD-HK  ISO3166-CD-HK   \n",
       "3  http://www.wisski.uni-bayreuth.de/data/66bda6d...  CD-HL  ISO3166-CD-HL   \n",
       "4  http://www.wisski.uni-bayreuth.de/data/66bda6d...  CD-HU  ISO3166-CD-HU   \n",
       "\n",
       "    RegionLabel  \n",
       "0      Bas-Uélé  \n",
       "1      Équateur  \n",
       "2  Haut-Katanga  \n",
       "3   Haut-Lomami  \n",
       "4     Haut-Uélé  "
      ]
     },
     "execution_count": 3,
     "metadata": {},
     "output_type": "execute_result"
    }
   ],
   "source": [
    "region = pd.read_excel(r\"GeoLocation_ISO.xlsx\", sheet_name=\"DRC\")\n",
    "region.head()"
   ]
  },
  {
   "cell_type": "code",
   "execution_count": 4,
   "id": "1ef4c309-3fda-4480-9634-081f74825951",
   "metadata": {},
   "outputs": [
    {
     "data": {
      "text/plain": [
       "26"
      ]
     },
     "execution_count": 4,
     "metadata": {},
     "output_type": "execute_result"
    }
   ],
   "source": [
    "len(region)"
   ]
  },
  {
   "cell_type": "code",
   "execution_count": 5,
   "id": "1091258d-c236-4510-90bc-81c056209b02",
   "metadata": {},
   "outputs": [],
   "source": [
    "# Test\n",
    "region_value = {\"fa51377749580b38172df49bff63f240\" : [region['RegionLabel'][0]],\n",
    "                \"f26b427df963f9807ed611f752e6adcd\" : [region['CodeNew'][0]],\n",
    "                \"f73611130ddd839eafcf914eee8a1389\" : [region['CountryURI'][0]]}\n",
    "try:\n",
    "    region_entity = Entity(api=api, fields=region_value, bundle_id = \"b366d363df2d2080ff010ff8016d6776\")\n",
    "    api.save(region_entity)\n",
    "except:\n",
    "    pass"
   ]
  },
  {
   "cell_type": "code",
   "execution_count": 6,
   "id": "b22752bd-f297-4a6a-a619-a76bc425af97",
   "metadata": {},
   "outputs": [],
   "source": [
    "# for n in range(1,len(region)):\n",
    "#     region_value = {\"fa51377749580b38172df49bff63f240\" : [region['RegionLabel'][n]],\n",
    "#                     \"f26b427df963f9807ed611f752e6adcd\" : [region['CodeNew'][n]],\n",
    "#                     \"f73611130ddd839eafcf914eee8a1389\" : [region['CountryURI'][n]]}\n",
    "#     try:\n",
    "#         region_entity = Entity(api=api, fields=region_value, bundle_id = \"b366d363df2d2080ff010ff8016d6776\")\n",
    "#         api.save(region_entity)\n",
    "#     except:\n",
    "#         pass"
   ]
  },
  {
   "cell_type": "code",
   "execution_count": null,
   "id": "837bad45-79dd-4052-8d90-027210dabbbb",
   "metadata": {},
   "outputs": [],
   "source": []
  }
 ],
 "metadata": {
  "kernelspec": {
   "display_name": "Python 3 (ipykernel)",
   "language": "python",
   "name": "python3"
  },
  "language_info": {
   "codemirror_mode": {
    "name": "ipython",
    "version": 3
   },
   "file_extension": ".py",
   "mimetype": "text/x-python",
   "name": "python",
   "nbconvert_exporter": "python",
   "pygments_lexer": "ipython3",
   "version": "3.10.14"
  }
 },
 "nbformat": 4,
 "nbformat_minor": 5
}
